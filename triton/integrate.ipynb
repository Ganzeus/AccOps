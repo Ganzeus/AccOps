{
 "cells": [
  {
   "cell_type": "markdown",
   "metadata": {},
   "source": [
    "### Model_gd"
   ]
  },
  {
   "cell_type": "markdown",
   "metadata": {},
   "source": [
    "#### linear"
   ]
  },
  {
   "cell_type": "code",
   "execution_count": 1,
   "metadata": {},
   "outputs": [],
   "source": [
    "import torch\n",
    "import torch.nn as nn\n",
    "import torch.nn.functional as F\n",
    "# import torch.utils.data\n",
    "import math\n",
    "import numpy as np\n",
    "import pandas as pd\n",
    "from torch.utils.data import DataLoader, Dataset\n",
    "import torch.optim as optim     # for constructing optimizer\n",
    "from typing import Optional\n",
    "import time\n",
    "from kernels.quantize_gemm_int8 import *\n",
    "\n",
    "class Net(nn.Module):\n",
    "    def __init__(self):\n",
    "        super(Net, self).__init__()\n",
    "        # 卷积层\n",
    "        # input:(batch_size, 1, 6, 6), output:(batch_size, num_kernels, 3, 3)\n",
    "        self.conv = nn.Sequential(\n",
    "            nn.Conv2d(in_channels=1, out_channels=4096, kernel_size=2, stride=2),\n",
    "            nn.BatchNorm2d(num_features=4096),\n",
    "            nn.ReLU(),\n",
    "            nn.MaxPool2d(kernel_size=1),\n",
    "        )\n",
    "        \n",
    "        # 全连接层\n",
    "        self.fc = nn.Sequential(\n",
    "            nn.Linear(in_features=4096*3*3, out_features=8192),\n",
    "            nn.ReLU(),\n",
    "            nn.Linear(in_features=8192, out_features=4096),\n",
    "            nn.ReLU(),\n",
    "            nn.Dropout(p=0.5),\n",
    "            nn.Linear(in_features=4096, out_features=2048),\n",
    "            nn.ReLU(),\n",
    "            nn.Dropout(p=0.5),\n",
    "            nn.Linear(in_features=2048, out_features=1024),\n",
    "            nn.ReLU(),\n",
    "            nn.Linear(in_features=1024, out_features=256),\n",
    "            nn.ReLU(),\n",
    "            nn.Linear(in_features=256, out_features=1),\n",
    "        )\n",
    "        \n",
    "        self.sigmoid = nn.Sigmoid()\n",
    "        \n",
    "        \n",
    "    def forward(self, x):\n",
    "        x = self.conv(x)\n",
    "        # x = x.view(x.shape[0], -1)  # (batch_size, 4096*3*3)\n",
    "        B = x.shape[0]\n",
    "        Cin = x.shape[1] * x.shape[2] * x.shape[3]  # 计算出 Cin = 4096 * 3 * 3\n",
    "        T = 1  # 设置 T = 1，因为不涉及序列长度，这里作为占位符\n",
    "        x = x.view(B, T, Cin)\n",
    "        x = self.fc(x)\n",
    "        x = x.view(x.shape[0], -1)    # (batch_size, 1)\n",
    "        x = self.sigmoid(x)     \n",
    "        return x\n",
    "    \n",
    "class TritonLinear(nn.Module):\n",
    "    def __init__(self, in_features, out_features, bias=True, device=None, dtype=None):\n",
    "        super().__init__()\n",
    "        factory_kwargs = {'device': device, 'dtype': dtype}\n",
    "        self.in_features = in_features\n",
    "        self.out_features = out_features\n",
    "        \n",
    "        # 初始化权重 (out_features, in_features)\n",
    "        self.weight = nn.Parameter(torch.empty((out_features, in_features), **factory_kwargs))\n",
    "        \n",
    "        if bias:\n",
    "            self.bias = nn.Parameter(torch.empty(out_features, **factory_kwargs))\n",
    "        else:\n",
    "            self.register_parameter('bias', None)\n",
    "        \n",
    "        # 预计算量化权重\n",
    "        self.register_buffer('quantized_weight', None)\n",
    "        self.register_buffer('weight_scale', None)\n",
    "        \n",
    "        self.reset_parameters()\n",
    "        self.quantize_weight()  # 初始化时预量化权重\n",
    "    \n",
    "    def reset_parameters(self):\n",
    "        # 标准的 PyTorch 初始化方法\n",
    "        nn.init.kaiming_uniform_(self.weight, a=math.sqrt(5))\n",
    "        if self.bias is not None:\n",
    "            fan_in, _ = nn.init._calculate_fan_in_and_fan_out(self.weight)\n",
    "            bound = 1 / math.sqrt(fan_in) if fan_in > 0 else 0\n",
    "            nn.init.uniform_(self.bias, -bound, bound)\n",
    "    \n",
    "    def quantize_weight(self):\n",
    "        # 转置权重以匹配 matmul 需求：从 (out_features, in_features) 到 (in_features, out_features)\n",
    "        weight_t = self.weight.t().contiguous()\n",
    "        # 按列量化（相当于原始权重的行）\n",
    "        quantized_weight, weight_scale = quantize_int8(weight_t, axis=0)\n",
    "        self.quantized_weight = quantized_weight\n",
    "        self.weight_scale = weight_scale\n",
    "    \n",
    "    def forward(self, input):\n",
    "        # 如果处于训练模式或权重尚未量化，则量化权重\n",
    "        if self.training or self.quantized_weight is None:\n",
    "            self.quantize_weight()\n",
    "        \n",
    "        # 处理输入\n",
    "        original_shape = input.shape\n",
    "        if input.dim() > 2:\n",
    "            # 将高维输入重塑为 2D\n",
    "            input = input.reshape(-1, input.size(-1))\n",
    "        \n",
    "        # 量化输入\n",
    "        quantized_input, input_scale = quantize_int8_perrow(input)\n",
    "        \n",
    "        # 执行量化矩阵乘法\n",
    "        output = matmul_int8(quantized_input, input_scale, \n",
    "                           self.quantized_weight, self.weight_scale)\n",
    "        \n",
    "        # 添加偏置（如果存在）\n",
    "        if self.bias is not None:\n",
    "            output = output + self.bias\n",
    "        \n",
    "        # 恢复原始维度（如果需要）\n",
    "        if len(original_shape) > 2:\n",
    "            output_shape = original_shape[:-1] + (self.out_features,)\n",
    "            output = output.reshape(output_shape)\n",
    "        \n",
    "        return output\n",
    "    \n",
    "    \n",
    "class NetWithTriton(nn.Module):\n",
    "    def __init__(self):\n",
    "        super(NetWithTriton, self).__init__()\n",
    "        # 卷积层保持不变\n",
    "        self.conv = nn.Sequential(\n",
    "            nn.Conv2d(in_channels=1, out_channels=4096, kernel_size=2, stride=2),\n",
    "            nn.BatchNorm2d(num_features=4096),\n",
    "            nn.ReLU(),\n",
    "            nn.MaxPool2d(kernel_size=1),\n",
    "        )\n",
    "        \n",
    "        # 全连接层替换为TritonLinear\n",
    "        self.fc = nn.Sequential(\n",
    "            TritonLinear(in_features=4096*3*3, out_features=8192),\n",
    "            nn.ReLU(),\n",
    "            TritonLinear(in_features=8192, out_features=4096),\n",
    "            nn.ReLU(),\n",
    "            nn.Dropout(p=0.5),\n",
    "            TritonLinear(in_features=4096, out_features=2048),\n",
    "            nn.ReLU(),\n",
    "            nn.Dropout(p=0.5),\n",
    "            TritonLinear(in_features=2048, out_features=1024),\n",
    "            nn.ReLU(),\n",
    "            TritonLinear(in_features=1024, out_features=256),\n",
    "            nn.ReLU(),\n",
    "            TritonLinear(in_features=256, out_features=1),\n",
    "        )\n",
    "        \n",
    "        self.sigmoid = nn.Sigmoid()\n",
    "        \n",
    "    def forward(self, x):\n",
    "        x = self.conv(x)\n",
    "        B = x.shape[0]\n",
    "        Cin = x.shape[1] * x.shape[2] * x.shape[3]  # 计算出 Cin = 4096 * 3 * 3\n",
    "        T = 1  # 设置 T = 1，因为不涉及序列长度，这里作为占位符\n",
    "        x = x.view(B, T, Cin)\n",
    "        x = self.fc(x)\n",
    "        x = x.view(x.shape[0], -1)    # (batch_size, 1)\n",
    "        x = self.sigmoid(x)     \n",
    "        return x\n",
    "    \n",
    "def convert_pytorch_to_triton_model(pytorch_model):\n",
    "    \"\"\"\n",
    "    将标准 PyTorch 模型转换为使用 TritonLinear 的模型\n",
    "    \"\"\"\n",
    "    triton_model = NetWithTriton()\n",
    "    \n",
    "    # 复制卷积层权重\n",
    "    triton_model.conv.load_state_dict(pytorch_model.conv.state_dict())\n",
    "    \n",
    "    # 直接按顺序匹配Linear层\n",
    "    pytorch_linears = [m for m in pytorch_model.fc if isinstance(m, nn.Linear)]\n",
    "    triton_linears = [m for m in triton_model.fc if isinstance(m, TritonLinear)]\n",
    "    \n",
    "    # 确保两者有相同数量的Linear层\n",
    "    assert len(pytorch_linears) == len(triton_linears), \"PyTorch和Triton模型的Linear层数量不匹配\"\n",
    "    \n",
    "    # 逐一复制权重\n",
    "    for pytorch_linear, triton_linear in zip(pytorch_linears, triton_linears):\n",
    "        # 打印出形状以便调试\n",
    "        print(f\"复制权重: PyTorch {pytorch_linear.weight.shape} -> Triton {triton_linear.weight.shape}\")\n",
    "        \n",
    "        # 确保形状匹配\n",
    "        assert pytorch_linear.weight.shape == triton_linear.weight.shape, \\\n",
    "            f\"权重形状不匹配: PyTorch {pytorch_linear.weight.shape} vs Triton {triton_linear.weight.shape}\"\n",
    "        \n",
    "        # 复制权重和偏置\n",
    "        triton_linear.weight.data.copy_(pytorch_linear.weight.data)\n",
    "        if pytorch_linear.bias is not None and triton_linear.bias is not None:\n",
    "            triton_linear.bias.data.copy_(pytorch_linear.bias.data)\n",
    "        \n",
    "        # 更新量化权重\n",
    "        triton_linear.quantize_weight()\n",
    "    \n",
    "    return triton_model\n",
    "\n",
    "def run_inference(batch_sizes=[64, 128, 256, 512], num_batches=5):\n",
    "    \"\"\"\n",
    "    运行多批次推理并比较 PyTorch 和 Triton 模型性能\n",
    "    \"\"\"\n",
    "    print(\"开始推理测试...\")\n",
    "    \n",
    "    # 定义设备\n",
    "    device = torch.device(\"cuda:4\" if torch.cuda.is_available() else \"cpu\")\n",
    "    torch.cuda.set_device(device)  # 确保默认设备是device\n",
    "    torch.cuda.empty_cache()  # 清空未使用的 GPU 内存\n",
    "    \n",
    "    # 尝试加载预训练模型\n",
    "    try:\n",
    "        model_state_dict = torch.load(\"model.pt\")\n",
    "        print(\"成功加载预训练模型权重\")\n",
    "        pytorch_model = Net()\n",
    "        pytorch_model.load_state_dict(model_state_dict)\n",
    "    except:\n",
    "        print(\"无法加载预训练模型，使用默认初始化权重\")\n",
    "        pytorch_model = Net()\n",
    "    \n",
    "    # 将模型转为使用 Triton 实现的版本\n",
    "    pytorch_model = pytorch_model.to(device).half()\n",
    "    triton_model = convert_pytorch_to_triton_model(pytorch_model)\n",
    "    triton_model = triton_model.to(device).half()\n",
    "    \n",
    "    # 设置为评估模式\n",
    "    pytorch_model.eval()\n",
    "    triton_model.eval()\n",
    "    \n",
    "    # 针对不同批次大小进行测试\n",
    "    for batch_size in batch_sizes:\n",
    "        print(f\"\\n==== 批次大小: {batch_size} ====\")\n",
    "        \n",
    "        # 准备随机输入数据\n",
    "        inputs = torch.randn(batch_size, 1, 6, 6, device=device, dtype=torch.float16)\n",
    "        \n",
    "        # 预热\n",
    "        for _ in range(10):\n",
    "            with torch.no_grad():\n",
    "                _ = pytorch_model(inputs)\n",
    "                _ = triton_model(inputs)\n",
    "        torch.cuda.synchronize()\n",
    "        \n",
    "        # PyTorch 模型推理\n",
    "        pytorch_times = []\n",
    "        for i in range(num_batches):\n",
    "            torch.cuda.synchronize()\n",
    "            start_time = time.time()\n",
    "            with torch.no_grad():\n",
    "                pytorch_output = pytorch_model(inputs)\n",
    "            torch.cuda.synchronize()\n",
    "            end_time = time.time()\n",
    "            pytorch_times.append(end_time - start_time)\n",
    "        \n",
    "        # Triton 模型推理\n",
    "        triton_times = []\n",
    "        for i in range(num_batches):\n",
    "            torch.cuda.synchronize()\n",
    "            start_time = time.time()\n",
    "            with torch.no_grad():\n",
    "                triton_output = triton_model(inputs)\n",
    "            torch.cuda.synchronize()\n",
    "            end_time = time.time()\n",
    "            triton_times.append(end_time - start_time)\n",
    "        \n",
    "        # 计算性能指标\n",
    "        avg_pytorch_time = sum(pytorch_times) / len(pytorch_times)\n",
    "        avg_triton_time = sum(triton_times) / len(triton_times)\n",
    "        speedup = avg_pytorch_time / avg_triton_time if avg_triton_time > 0 else float('inf')\n",
    "        \n",
    "        # 验证输出是否接近\n",
    "        output_diff = torch.abs(pytorch_output - triton_output).mean().item()\n",
    "        \n",
    "        # 打印结果\n",
    "        print(f\"PyTorch 平均推理时间: {avg_pytorch_time*1000:.2f} ms\")\n",
    "        print(f\"Triton  平均推理时间: {avg_triton_time*1000:.2f} ms\")\n",
    "        print(f\"加速比: {speedup:.2f}x\")\n",
    "        print(f\"输出差异 (平均绝对误差): {output_diff:.6f}\")\n",
    "        \n",
    "        # 打印一些样本输出\n",
    "        print(\"\\n样本输出比较 (前5个):\")\n",
    "        if batch_size >= 5:\n",
    "            for i in range(5):\n",
    "                print(f\"  样本 {i}: PyTorch={pytorch_output[i].item():.4f}, Triton={triton_output[i].item():.4f}\")\n",
    "        else:\n",
    "            for i in range(batch_size):\n",
    "                print(f\"  样本 {i}: PyTorch={pytorch_output[i].item():.4f}, Triton={triton_output[i].item():.4f}\")\n"
   ]
  },
  {
   "cell_type": "code",
   "execution_count": 2,
   "metadata": {},
   "outputs": [
    {
     "name": "stdout",
     "output_type": "stream",
     "text": [
      "开始推理测试...\n"
     ]
    },
    {
     "name": "stderr",
     "output_type": "stream",
     "text": [
      "/tmp/ipykernel_2790889/316016411.py:215: FutureWarning: You are using `torch.load` with `weights_only=False` (the current default value), which uses the default pickle module implicitly. It is possible to construct malicious pickle data which will execute arbitrary code during unpickling (See https://github.com/pytorch/pytorch/blob/main/SECURITY.md#untrusted-models for more details). In a future release, the default value for `weights_only` will be flipped to `True`. This limits the functions that could be executed during unpickling. Arbitrary objects will no longer be allowed to be loaded via this mode unless they are explicitly allowlisted by the user via `torch.serialization.add_safe_globals`. We recommend you start setting `weights_only=True` for any use case where you don't have full control of the loaded file. Please open an issue on GitHub for any issues related to this experimental feature.\n",
      "  model_state_dict = torch.load(\"model.pt\")\n"
     ]
    },
    {
     "name": "stdout",
     "output_type": "stream",
     "text": [
      "无法加载预训练模型，使用默认初始化权重\n",
      "复制权重: PyTorch torch.Size([8192, 36864]) -> Triton torch.Size([8192, 36864])\n",
      "复制权重: PyTorch torch.Size([4096, 8192]) -> Triton torch.Size([4096, 8192])\n",
      "复制权重: PyTorch torch.Size([2048, 4096]) -> Triton torch.Size([2048, 4096])\n",
      "复制权重: PyTorch torch.Size([1024, 2048]) -> Triton torch.Size([1024, 2048])\n",
      "复制权重: PyTorch torch.Size([256, 1024]) -> Triton torch.Size([256, 1024])\n",
      "复制权重: PyTorch torch.Size([1, 256]) -> Triton torch.Size([1, 256])\n",
      "\n",
      "==== 批次大小: 256 ====\n",
      "PyTorch 平均推理时间: 1.56 ms\n",
      "Triton  平均推理时间: 1.31 ms\n",
      "加速比: 1.19x\n",
      "输出差异 (平均绝对误差): 0.000097\n",
      "\n",
      "样本输出比较 (前5个):\n",
      "  样本 0: PyTorch=0.4995, Triton=0.4995\n",
      "  样本 1: PyTorch=0.4998, Triton=0.4995\n",
      "  样本 2: PyTorch=0.4988, Triton=0.4988\n",
      "  样本 3: PyTorch=0.4990, Triton=0.4990\n",
      "  样本 4: PyTorch=0.4988, Triton=0.4988\n",
      "\n",
      "==== 批次大小: 512 ====\n",
      "PyTorch 平均推理时间: 3.18 ms\n",
      "Triton  平均推理时间: 1.97 ms\n",
      "加速比: 1.62x\n",
      "输出差异 (平均绝对误差): 0.000090\n",
      "\n",
      "样本输出比较 (前5个):\n",
      "  样本 0: PyTorch=0.4985, Triton=0.4985\n",
      "  样本 1: PyTorch=0.4990, Triton=0.4990\n",
      "  样本 2: PyTorch=0.4995, Triton=0.4995\n",
      "  样本 3: PyTorch=0.4995, Triton=0.4995\n",
      "  样本 4: PyTorch=0.4993, Triton=0.4990\n",
      "\n",
      "==== 批次大小: 1024 ====\n",
      "PyTorch 平均推理时间: 6.17 ms\n",
      "Triton  平均推理时间: 3.84 ms\n",
      "加速比: 1.61x\n",
      "输出差异 (平均绝对误差): 0.000098\n",
      "\n",
      "样本输出比较 (前5个):\n",
      "  样本 0: PyTorch=0.4993, Triton=0.4993\n",
      "  样本 1: PyTorch=0.4985, Triton=0.4985\n",
      "  样本 2: PyTorch=0.4993, Triton=0.4993\n",
      "  样本 3: PyTorch=0.4988, Triton=0.4988\n",
      "  样本 4: PyTorch=0.4995, Triton=0.4993\n"
     ]
    }
   ],
   "source": [
    "run_inference(batch_sizes=[256, 512, 1024], num_batches=5)"
   ]
  },
  {
   "cell_type": "markdown",
   "metadata": {},
   "source": [
    "#### conv2d+linear"
   ]
  },
  {
   "cell_type": "code",
   "execution_count": 1,
   "metadata": {},
   "outputs": [],
   "source": [
    "import torch\n",
    "import torch.nn as nn\n",
    "import torch.nn.functional as F\n",
    "# import torch.utils.data\n",
    "import math\n",
    "import numpy as np\n",
    "import pandas as pd\n",
    "from torch.utils.data import DataLoader, Dataset\n",
    "import torch.optim as optim     # for constructing optimizer\n",
    "from typing import Optional\n",
    "import time\n",
    "from kernels.quantize_gemm_int8 import *\n",
    "from kernels.conv2d import conv2d_triton\n",
    "\n",
    "class GDdataset(Dataset):\n",
    "    def __init__(self, path):\n",
    "        self.data = pd.read_csv(path)\n",
    "        SFR = torch.tensor(self.data.iloc[:, 2:46].values)\n",
    "        blocks = [SFR[:, i:i+4].reshape(-1, 2, 2) for i in range(0, 45, 5)] # 将36列中的每4列合并成一个2*2矩阵，得到9个块\n",
    "        \n",
    "        self.value = torch.cat([torch.cat(blocks[i:i+3], dim=2) for i in range(0, 9, 3)], dim=1) # 将9个块按3*3的方式拼成一个大矩阵\n",
    "        self.value = self.value.unsqueeze(1).to(torch.float32)\n",
    "        \n",
    "        self.target = torch.tensor([1.0 if x == 'OK' else 0.0 for x in self.data.iloc[:, 48].values])\n",
    "        self.target = self.target.unsqueeze(1)\n",
    "        \n",
    "    def __getitem__(self, index):\n",
    "        return self.value[index], self.target[index]\n",
    "        \n",
    "        \n",
    "    def __len__(self):\n",
    "        return len(self.data)\n",
    "    \n",
    "\n",
    "\n",
    "class Net(nn.Module):\n",
    "    def __init__(self):\n",
    "        super(Net, self).__init__()\n",
    "        # 卷积层\n",
    "        # input:(batch_size, 1, 6, 6), output:(batch_size, num_kernels, 3, 3)\n",
    "        self.conv = nn.Sequential(\n",
    "            nn.Conv2d(in_channels=1, out_channels=4096, kernel_size=2, stride=2),\n",
    "            nn.BatchNorm2d(num_features=4096),\n",
    "            nn.ReLU(),\n",
    "            nn.MaxPool2d(kernel_size=1),\n",
    "        )\n",
    "        \n",
    "        # 全连接层\n",
    "        self.fc = nn.Sequential(\n",
    "            nn.Linear(in_features=4096*3*3, out_features=8192),\n",
    "            nn.ReLU(),\n",
    "            nn.Linear(in_features=8192, out_features=4096),\n",
    "            nn.ReLU(),\n",
    "            nn.Dropout(p=0.5),\n",
    "            nn.Linear(in_features=4096, out_features=2048),\n",
    "            nn.ReLU(),\n",
    "            nn.Dropout(p=0.5),\n",
    "            nn.Linear(in_features=2048, out_features=1024),\n",
    "            nn.ReLU(),\n",
    "            nn.Linear(in_features=1024, out_features=256),\n",
    "            nn.ReLU(),\n",
    "            nn.Linear(in_features=256, out_features=1),\n",
    "        )\n",
    "        \n",
    "        self.sigmoid = nn.Sigmoid()\n",
    "        \n",
    "        \n",
    "    def forward(self, x):\n",
    "        x = self.conv(x)\n",
    "        # x = x.view(x.shape[0], -1)  # (batch_size, 4096*3*3)\n",
    "        B = x.shape[0]\n",
    "        Cin = x.shape[1] * x.shape[2] * x.shape[3]  # 计算出 Cin = 4096 * 3 * 3\n",
    "        T = 1  # 设置 T = 1，因为不涉及序列长度，这里作为占位符\n",
    "        x = x.view(B, T, Cin)\n",
    "        x = self.fc(x)\n",
    "        x = x.view(x.shape[0], -1)    # (batch_size, 1)\n",
    "        x = self.sigmoid(x)     \n",
    "        return x\n",
    "    \n",
    "class TritonLinear(nn.Module):\n",
    "    def __init__(self, in_features, out_features, bias=True, device=None, dtype=None):\n",
    "        super().__init__()\n",
    "        factory_kwargs = {'device': device, 'dtype': dtype}\n",
    "        self.in_features = in_features\n",
    "        self.out_features = out_features\n",
    "        \n",
    "        # 初始化权重 (out_features, in_features)\n",
    "        self.weight = nn.Parameter(torch.empty((out_features, in_features), **factory_kwargs))\n",
    "        \n",
    "        if bias:\n",
    "            self.bias = nn.Parameter(torch.empty(out_features, **factory_kwargs))\n",
    "        else:\n",
    "            self.register_parameter('bias', None)\n",
    "        \n",
    "        # 预计算量化权重\n",
    "        self.register_buffer('quantized_weight', None)\n",
    "        self.register_buffer('weight_scale', None)\n",
    "        \n",
    "        self.reset_parameters()\n",
    "        self.quantize_weight()  # 初始化时预量化权重\n",
    "    \n",
    "    def reset_parameters(self):\n",
    "        # 标准的 PyTorch 初始化方法\n",
    "        nn.init.kaiming_uniform_(self.weight, a=math.sqrt(5))\n",
    "        if self.bias is not None:\n",
    "            fan_in, _ = nn.init._calculate_fan_in_and_fan_out(self.weight)\n",
    "            bound = 1 / math.sqrt(fan_in) if fan_in > 0 else 0\n",
    "            nn.init.uniform_(self.bias, -bound, bound)\n",
    "    \n",
    "    def quantize_weight(self):\n",
    "        # 转置权重以匹配 matmul 需求：从 (out_features, in_features) 到 (in_features, out_features)\n",
    "        weight_t = self.weight.t().contiguous()\n",
    "        # 按列量化（相当于原始权重的行）\n",
    "        quantized_weight, weight_scale = quantize_int8(weight_t, axis=0)\n",
    "        self.quantized_weight = quantized_weight\n",
    "        self.weight_scale = weight_scale\n",
    "    \n",
    "    def forward(self, input):\n",
    "        # 如果处于训练模式或权重尚未量化，则量化权重\n",
    "        if self.training or self.quantized_weight is None:\n",
    "            self.quantize_weight()\n",
    "        \n",
    "        # 处理输入\n",
    "        original_shape = input.shape\n",
    "        if input.dim() > 2:\n",
    "            # 将高维输入重塑为 2D\n",
    "            input = input.reshape(-1, input.size(-1))\n",
    "        \n",
    "        # 量化输入\n",
    "        quantized_input, input_scale = quantize_int8_perrow(input)\n",
    "        \n",
    "        # 执行量化矩阵乘法\n",
    "        output = matmul_int8(quantized_input, input_scale, \n",
    "                           self.quantized_weight, self.weight_scale)\n",
    "        \n",
    "        # 添加偏置（如果存在）\n",
    "        if self.bias is not None:\n",
    "            output = output + self.bias\n",
    "        \n",
    "        # 恢复原始维度（如果需要）\n",
    "        if len(original_shape) > 2:\n",
    "            output_shape = original_shape[:-1] + (self.out_features,)\n",
    "            output = output.reshape(output_shape)\n",
    "        \n",
    "        return output\n",
    "\n",
    "class Conv2dTriton(nn.Module):\n",
    "    def __init__(self, in_channels, out_channels, kernel_size, stride=1, padding=0, bias=True, device=None, dtype=None):\n",
    "        super(Conv2dTriton, self).__init__()\n",
    "        \n",
    "        # Handle kernel_size as int or tuple\n",
    "        if isinstance(kernel_size, int):\n",
    "            kernel_size = (kernel_size, kernel_size)\n",
    "        \n",
    "        # Currently, the Triton implementation only supports stride = kernel_size\n",
    "        if isinstance(stride, int):\n",
    "            stride = (stride, stride)\n",
    "        \n",
    "        assert stride == kernel_size, \"The Triton implementation only supports stride == kernel_size\"\n",
    "        assert padding == 0, \"The Triton implementation doesn't support padding\"\n",
    "        \n",
    "        self.in_channels = in_channels\n",
    "        self.out_channels = out_channels\n",
    "        self.kernel_size = kernel_size\n",
    "        self.stride = stride\n",
    "        \n",
    "        # Initialize weights and bias\n",
    "        self.weight = nn.Parameter(torch.empty((out_channels, in_channels, kernel_size[0], kernel_size[1])))\n",
    "        if bias:\n",
    "            self.bias = nn.Parameter(torch.empty(out_channels))\n",
    "        else:\n",
    "            self.register_parameter('bias', None)\n",
    "            \n",
    "        self.reset_parameters()\n",
    "        \n",
    "    def reset_parameters(self):\n",
    "        # Standard initialization as in PyTorch\n",
    "        nn.init.kaiming_uniform_(self.weight, a=math.sqrt(5))\n",
    "        if self.bias is not None:\n",
    "            fan_in, _ = nn.init._calculate_fan_in_and_fan_out(self.weight)\n",
    "            bound = 1 / math.sqrt(fan_in) if fan_in > 0 else 0\n",
    "            nn.init.uniform_(self.bias, -bound, bound)\n",
    "    \n",
    "    def forward(self, x):\n",
    "        # Ensure input dimensions are divisible by kernel dimensions\n",
    "        batch_size, channels, height, width = x.shape\n",
    "        assert height % self.kernel_size[0] == 0 and width % self.kernel_size[1] == 0, \\\n",
    "            f\"Input height ({height}) and width ({width}) should be divisible by kernel dimensions ({self.kernel_size})\"\n",
    "        \n",
    "        # Use the Triton implementation\n",
    "        bias_tensor = self.bias if self.bias is not None else torch.zeros(self.out_channels, device=x.device, dtype=x.dtype)\n",
    "        output = conv2d_triton(x, self.weight, bias_tensor)\n",
    "        \n",
    "        # Ensure output has the same dtype as input\n",
    "        return output.to(x.dtype)\n",
    "\n",
    "\n",
    "class NetWithTriton(nn.Module):\n",
    "    def __init__(self):\n",
    "        super(NetWithTriton, self).__init__()\n",
    "        # Replace nn.Conv2d with Conv2dTriton\n",
    "        self.conv = nn.Sequential(\n",
    "            Conv2dTriton(in_channels=1, out_channels=4096, kernel_size=2, stride=2),\n",
    "            nn.BatchNorm2d(num_features=4096),\n",
    "            nn.ReLU(),\n",
    "            nn.MaxPool2d(kernel_size=1),\n",
    "        )\n",
    "        \n",
    "        # Use TritonLinear for fully connected layers\n",
    "        self.fc = nn.Sequential(\n",
    "            TritonLinear(in_features=4096*3*3, out_features=8192),\n",
    "            nn.ReLU(),\n",
    "            TritonLinear(in_features=8192, out_features=4096),\n",
    "            nn.ReLU(),\n",
    "            nn.Dropout(p=0.5),\n",
    "            TritonLinear(in_features=4096, out_features=2048),\n",
    "            nn.ReLU(),\n",
    "            nn.Dropout(p=0.5),\n",
    "            TritonLinear(in_features=2048, out_features=1024),\n",
    "            nn.ReLU(),\n",
    "            TritonLinear(in_features=1024, out_features=256),\n",
    "            nn.ReLU(),\n",
    "            TritonLinear(in_features=256, out_features=1),\n",
    "        )\n",
    "        \n",
    "        self.sigmoid = nn.Sigmoid()\n",
    "        \n",
    "    def forward(self, x):\n",
    "        x = self.conv(x)\n",
    "        B = x.shape[0]\n",
    "        Cin = x.shape[1] * x.shape[2] * x.shape[3]  # Calculate Cin = 4096 * 3 * 3\n",
    "        T = 1  # Set T = 1 as placeholder\n",
    "        x = x.view(B, T, Cin)\n",
    "        x = self.fc(x)\n",
    "        x = x.view(x.shape[0], -1)  \n",
    "        x = self.sigmoid(x)     \n",
    "        return x\n",
    "\n",
    "\n",
    "def convert_pytorch_to_triton_model(pytorch_model):\n",
    "    \"\"\"\n",
    "    Convert standard PyTorch model to a model using TritonLinear and Conv2dTriton\n",
    "    \"\"\"\n",
    "    triton_model = NetWithTriton()\n",
    "    \n",
    "    # Copy Conv2d weights to Conv2dTriton\n",
    "    pytorch_conv = pytorch_model.conv[0]  # Get the Conv2d layer\n",
    "    triton_conv = triton_model.conv[0]    # Get the Conv2dTriton layer\n",
    "    \n",
    "    # Copy weights and bias\n",
    "    print(f\"Copying Conv weights: PyTorch {pytorch_conv.weight.shape} -> Triton {triton_conv.weight.shape}\")\n",
    "    triton_conv.weight.data.copy_(pytorch_conv.weight.data)\n",
    "    if hasattr(pytorch_conv, 'bias') and pytorch_conv.bias is not None:\n",
    "        triton_conv.bias.data.copy_(pytorch_conv.bias.data)\n",
    "    \n",
    "    # Copy other layers in the conv sequential (BatchNorm, etc.)\n",
    "    for i in range(1, len(pytorch_model.conv)):\n",
    "        print(f\"Copying layer: {type(pytorch_model.conv[i]).__name__}\")\n",
    "        triton_model.conv[i].load_state_dict(pytorch_model.conv[i].state_dict())\n",
    "    \n",
    "    # Copy linear layer weights to TritonLinear\n",
    "    pytorch_linears = [m for m in pytorch_model.fc if isinstance(m, nn.Linear)]\n",
    "    triton_linears = [m for m in triton_model.fc if isinstance(m, TritonLinear)]\n",
    "    \n",
    "    assert len(pytorch_linears) == len(triton_linears), \\\n",
    "        f\"Number of Linear layers doesn't match: PyTorch {len(pytorch_linears)} vs Triton {len(triton_linears)}\"\n",
    "    \n",
    "    for i, (pytorch_linear, triton_linear) in enumerate(zip(pytorch_linears, triton_linears)):\n",
    "        print(f\"Copying Linear {i+1} weights: PyTorch {pytorch_linear.weight.shape} -> Triton {triton_linear.weight.shape}\")\n",
    "        triton_linear.weight.data.copy_(pytorch_linear.weight.data)\n",
    "        if pytorch_linear.bias is not None:\n",
    "            triton_linear.bias.data.copy_(pytorch_linear.bias.data)\n",
    "        \n",
    "        # Update quantized weights\n",
    "        triton_linear.quantize_weight()\n",
    "    \n",
    "    return triton_model"
   ]
  },
  {
   "cell_type": "code",
   "execution_count": 2,
   "metadata": {},
   "outputs": [],
   "source": [
    "import functools\n",
    "import torch\n",
    "import torch.nn.functional as F\n",
    "import types\n",
    "import time\n",
    "import pprint\n",
    "import contextlib\n",
    "from collections import defaultdict\n",
    "\n",
    "# 创建一个字典来存储调用次数\n",
    "call_count = {}\n",
    "# 用于跟踪被装饰的函数和装饰次数\n",
    "decorated_count = defaultdict(int)\n",
    "# 备份原始函数\n",
    "original_functions = {}\n",
    "\n",
    "def count_calls(func, module_name=None):\n",
    "    @functools.wraps(func)\n",
    "    def wrapper_count_calls(*args, **kwargs):\n",
    "        full_name = module_name + '.' + func.__name__\n",
    "        \n",
    "        # 记录开始时间\n",
    "        start_time = time.time()\n",
    "        result = func(*args, **kwargs)\n",
    "        # 记录结束时间\n",
    "        end_time = time.time()\n",
    "        \n",
    "        # 计算调用时间\n",
    "        elapsed_time = end_time - start_time\n",
    "        \n",
    "        if full_name not in call_count:\n",
    "            call_count[full_name] = {\"count\": 0, \"total_time\": 0.0}\n",
    "        \n",
    "        call_count[full_name][\"count\"] += 1\n",
    "        call_count[full_name][\"total_time\"] += elapsed_time\n",
    "        \n",
    "        return result\n",
    "    \n",
    "    wrapper_count_calls._is_decorated = True\n",
    "    wrapper_count_calls._original_func = func\n",
    "    return wrapper_count_calls\n",
    "\n",
    "def decorate_function(module, attr_name):\n",
    "    \"\"\"装饰单个函数\"\"\"\n",
    "    if hasattr(module, attr_name):\n",
    "        attr = getattr(module, attr_name)\n",
    "        key = f\"{module.__name__}.{attr_name}\"\n",
    "        \n",
    "        if callable(attr):\n",
    "            # 如果函数已经被装饰，只增加引用计数\n",
    "            if hasattr(attr, '_is_decorated'):\n",
    "                decorated_count[key] += 1\n",
    "                return True\n",
    "            \n",
    "            # 否则装饰函数并保存原始函数\n",
    "            if key not in original_functions:\n",
    "                original_functions[key] = attr\n",
    "            \n",
    "            decorated_attr = count_calls(original_functions[key], module.__name__)\n",
    "            setattr(module, attr_name, decorated_attr)\n",
    "            decorated_count[key] = 1\n",
    "            return True\n",
    "    \n",
    "    return False\n",
    "\n",
    "def restore_function(module, attr_name):\n",
    "    \"\"\"恢复单个原始函数\"\"\"\n",
    "    key = f\"{module.__name__}.{attr_name}\"\n",
    "    \n",
    "    # 减少引用计数\n",
    "    if key in decorated_count:\n",
    "        decorated_count[key] -= 1\n",
    "        \n",
    "        # 只有当引用计数为0时才恢复原始函数\n",
    "        if decorated_count[key] <= 0:\n",
    "            if key in original_functions:\n",
    "                setattr(module, attr_name, original_functions[key])\n",
    "                del decorated_count[key]\n",
    "            return True\n",
    "    \n",
    "    return False\n",
    "\n",
    "def decorate_module(module, recursive=True, visited=None):\n",
    "    \"\"\"装饰模块中的所有函数\"\"\"\n",
    "    if visited is None:\n",
    "        visited = set()\n",
    "    \n",
    "    module_id = id(module)\n",
    "    if module_id in visited:\n",
    "        return\n",
    "    visited.add(module_id)\n",
    "    \n",
    "    for attr_name in dir(module):\n",
    "        try:\n",
    "            attr = getattr(module, attr_name)\n",
    "            \n",
    "            # 装饰函数\n",
    "            if isinstance(attr, types.FunctionType):\n",
    "                decorate_function(module, attr_name)\n",
    "            \n",
    "            # 装饰可调用对象\n",
    "            elif callable(attr) and not isinstance(attr, type):\n",
    "                decorate_function(module, attr_name)\n",
    "            \n",
    "            # 递归装饰子模块\n",
    "            elif recursive and isinstance(attr, types.ModuleType):\n",
    "                module_name = getattr(attr, '__name__', '')\n",
    "                if module_name.startswith('torch'):\n",
    "                    decorate_module(attr, recursive=True, visited=visited)\n",
    "            \n",
    "            # 装饰类\n",
    "            elif isinstance(attr, type):\n",
    "                decorate_class(attr)\n",
    "                \n",
    "        except AttributeError:\n",
    "            continue\n",
    "\n",
    "def decorate_class(cls):\n",
    "    \"\"\"装饰类中的方法\"\"\"\n",
    "    for attr_name in dir(cls):\n",
    "        try:\n",
    "            attr = getattr(cls, attr_name)\n",
    "            if isinstance(attr, types.FunctionType):\n",
    "                decorate_function(cls, attr_name)\n",
    "            elif attr_name in ['__add__', '__mul__', '__sub__', '__truediv__', '__matmul__', '__pow__', '__mod__']:\n",
    "                # 特殊处理运算符重载方法\n",
    "                decorate_function(cls, attr_name)\n",
    "        except (AttributeError, TypeError):\n",
    "            continue\n",
    "\n",
    "def restore_module(module, recursive=True, visited=None):\n",
    "    \"\"\"恢复模块中的所有原始函数\"\"\"\n",
    "    if visited is None:\n",
    "        visited = set()\n",
    "    \n",
    "    module_id = id(module)\n",
    "    if module_id in visited:\n",
    "        return\n",
    "    visited.add(module_id)\n",
    "    \n",
    "    for attr_name in dir(module):\n",
    "        try:\n",
    "            # 尝试恢复函数\n",
    "            restore_function(module, attr_name)\n",
    "            \n",
    "            # 递归恢复子模块\n",
    "            attr = getattr(module, attr_name)\n",
    "            if recursive and isinstance(attr, types.ModuleType):\n",
    "                module_name = getattr(attr, '__name__', '')\n",
    "                if module_name.startswith('torch'):\n",
    "                    restore_module(attr, recursive=True, visited=visited)\n",
    "            elif isinstance(attr, type):\n",
    "                restore_class(attr)\n",
    "                \n",
    "        except AttributeError:\n",
    "            continue\n",
    "\n",
    "def restore_class(cls):\n",
    "    \"\"\"恢复类中的原始方法\"\"\"\n",
    "    for attr_name in dir(cls):\n",
    "        try:\n",
    "            restore_function(cls, attr_name)\n",
    "        except (AttributeError, TypeError):\n",
    "            continue\n",
    "\n",
    "# 重置计数器\n",
    "def reset_counters():\n",
    "    \"\"\"重置所有计数器\"\"\"\n",
    "    global call_count\n",
    "    call_count.clear()\n",
    "\n",
    "# 获取统计结果\n",
    "def get_statistics():\n",
    "    \"\"\"获取当前的统计结果\"\"\"\n",
    "    return call_count\n",
    "\n",
    "# 打印统计结果\n",
    "def print_statistics(sort_by=\"count\", top_n=None):\n",
    "    \"\"\"打印当前的统计结果\n",
    "    \n",
    "    Args:\n",
    "        sort_by: 排序依据，可以是\"count\"或\"total_time\"\n",
    "        top_n: 只显示前N个结果，默认显示所有\n",
    "    \"\"\"\n",
    "    if not call_count:\n",
    "        print(\"No statistics available.\")\n",
    "        return\n",
    "        \n",
    "    # 对结果进行排序\n",
    "    sorted_stats = sorted(call_count.items(), \n",
    "                          key=lambda x: x[1][sort_by], \n",
    "                          reverse=True)\n",
    "    \n",
    "    if top_n is not None:\n",
    "        sorted_stats = sorted_stats[:top_n]\n",
    "    \n",
    "    print(f\"{'Function Name':<50} {'Count':<10} {'Total Time (s)':<15} {'Avg Time (s)':<15}\")\n",
    "    print(\"-\" * 90)\n",
    "    for name, stats in sorted_stats:\n",
    "        avg_time = stats[\"total_time\"] / stats[\"count\"] if stats[\"count\"] > 0 else 0\n",
    "        print(f\"{name:<50} {stats['count']:<10} {stats['total_time']:<15.6f} {avg_time:<15.6f}\")\n",
    "\n",
    "# 上下文管理器，用于临时启用监控\n",
    "class Monitor:\n",
    "    def __init__(self, modules=None, reset=False):\n",
    "        \"\"\"\n",
    "        Args:\n",
    "            modules: 要监控的模块列表，默认为[torch]\n",
    "            reset: 是否在进入上下文前重置计数器\n",
    "        \"\"\"\n",
    "        self.modules = modules if modules is not None else [torch]\n",
    "        self.reset = reset\n",
    "    \n",
    "    def __enter__(self):\n",
    "        if self.reset:\n",
    "            reset_counters()\n",
    "        \n",
    "        # 装饰指定模块中的函数\n",
    "        for module in self.modules:\n",
    "            decorate_module(module)\n",
    "        \n",
    "        return self\n",
    "    \n",
    "    def __exit__(self, exc_type, exc_val, exc_tb):\n",
    "        # 恢复原始函数\n",
    "        for module in self.modules:\n",
    "            restore_module(module)\n",
    "\n",
    "# 创建一个更简单的上下文管理器函数\n",
    "@contextlib.contextmanager\n",
    "def monitor(modules=None, reset=False):\n",
    "    \"\"\"上下文管理器，用于在特定代码块中启用监控\n",
    "    \n",
    "    Args:\n",
    "        modules: 要监控的模块列表，默认为[torch]\n",
    "        reset: 是否在进入上下文前重置计数器\n",
    "    \"\"\"\n",
    "    with Monitor(modules=modules, reset=reset):\n",
    "        yield"
   ]
  },
  {
   "cell_type": "code",
   "execution_count": 3,
   "metadata": {},
   "outputs": [],
   "source": [
    "def run_inference(batch_sizes=[64, 128, 256, 512], num_batches=5):\n",
    "    \"\"\"\n",
    "    Run inference on Triton models and measure operator-level performance\n",
    "    \"\"\"\n",
    "    print(\"Starting inference test with real dataset...\")\n",
    "    \n",
    "    # Define device\n",
    "    device = torch.device(\"cuda:4\" if torch.cuda.is_available() else \"cpu\")\n",
    "    torch.cuda.set_device(device)  # Set default device\n",
    "    torch.cuda.empty_cache()  # Clear unused GPU memory\n",
    "    \n",
    "    # Try to load pre-trained model\n",
    "    try:\n",
    "        model_state_dict = torch.load(\"model.pt\")\n",
    "        print(\"Successfully loaded pre-trained model weights\")\n",
    "        pytorch_model = Net()\n",
    "        pytorch_model.load_state_dict(model_state_dict)\n",
    "    except:\n",
    "        print(\"Could not load pre-trained model, using default weights\")\n",
    "        pytorch_model = Net()\n",
    "    \n",
    "    # Convert model to use Triton implementations\n",
    "    pytorch_model = pytorch_model.to(device).half()\n",
    "    triton_model = convert_pytorch_to_triton_model(pytorch_model)\n",
    "    triton_model = triton_model.to(device).half()\n",
    "    \n",
    "    # Set to evaluation mode\n",
    "    triton_model.eval()\n",
    "    \n",
    "    # Create the dataset once (we'll reuse it for different batch sizes)\n",
    "    try:\n",
    "        train_dataset = GDdataset(\"./train_data.csv\")\n",
    "        print(f\"Successfully loaded dataset with {len(train_dataset)} samples\")\n",
    "    except Exception as e:\n",
    "        print(f\"Error loading dataset: {e}\")\n",
    "        return\n",
    "    \n",
    "    # Test for different batch sizes\n",
    "    for batch_size in batch_sizes:\n",
    "        print(f\"\\n==== Batch Size: {batch_size} ====\")\n",
    "        \n",
    "        # Store batches for testing - manually shuffle the dataset indices\n",
    "        indices = torch.randperm(len(train_dataset), device='cpu').tolist()\n",
    "        test_batches = []\n",
    "        batch_count = 0\n",
    "        \n",
    "        for i in range(0, min(len(indices), batch_size * num_batches), batch_size):\n",
    "            if batch_count >= num_batches:\n",
    "                break\n",
    "                \n",
    "            # Get a batch of indices\n",
    "            batch_indices = indices[i:i+batch_size]\n",
    "            if len(batch_indices) < batch_size:\n",
    "                # Skip incomplete batches\n",
    "                continue\n",
    "                \n",
    "            # Collect inputs and targets for this batch\n",
    "            batch_inputs = []\n",
    "            batch_targets = []\n",
    "            for idx in batch_indices:\n",
    "                inp, tgt = train_dataset[idx]\n",
    "                batch_inputs.append(inp)\n",
    "                batch_targets.append(tgt)\n",
    "            \n",
    "            # Stack the tensors into a batch\n",
    "            inputs = torch.stack(batch_inputs).to(device).half()\n",
    "            targets = torch.stack(batch_targets).to(device).half()\n",
    "            \n",
    "            test_batches.append((inputs, targets))\n",
    "            batch_count += 1\n",
    "        \n",
    "        # Ensure we have enough batches\n",
    "        if len(test_batches) < num_batches:\n",
    "            print(f\"Warning: Could only extract {len(test_batches)} batches instead of {num_batches}\")\n",
    "            num_actual_batches = len(test_batches)\n",
    "        else:\n",
    "            num_actual_batches = num_batches\n",
    "        \n",
    "        # Verify data shape\n",
    "        print(f\"Input shape: {test_batches[0][0].shape}\")\n",
    "        \n",
    "        # Warmup\n",
    "        for i in range(min(10, len(test_batches))):\n",
    "            inputs, _ = test_batches[i % len(test_batches)]\n",
    "            with torch.no_grad():\n",
    "                _ = triton_model(inputs)\n",
    "        torch.cuda.synchronize()\n",
    "        \n",
    "        # Reset counters before measurement\n",
    "        reset_counters()\n",
    "        \n",
    "        # Triton model inference with operator-level profiling\n",
    "        with monitor():\n",
    "            for i in range(num_actual_batches):\n",
    "                inputs, targets = test_batches[i]\n",
    "                with torch.no_grad():\n",
    "                    triton_output = triton_model(inputs)\n",
    "                torch.cuda.synchronize()\n",
    "        \n",
    "        # Print operator-level statistics\n",
    "        print(\"\\nOperator-level performance statistics (top 10 by total time):\")\n",
    "        print_statistics(sort_by=\"total_time\", top_n=10)\n",
    "        \n",
    "        # Print sample outputs for the last batch\n",
    "        batch_to_print = min(batch_size, triton_output.size(0))\n",
    "        print(f\"\\nSample output (first {min(5, batch_to_print)} from last batch):\")\n",
    "        for i in range(min(5, batch_to_print)):\n",
    "            print(f\"  Sample {i}: Output={triton_output[i].item():.4f}\")"
   ]
  },
  {
   "cell_type": "code",
   "execution_count": 4,
   "metadata": {},
   "outputs": [
    {
     "name": "stdout",
     "output_type": "stream",
     "text": [
      "Starting inference test with real dataset...\n"
     ]
    },
    {
     "name": "stderr",
     "output_type": "stream",
     "text": [
      "/tmp/ipykernel_3090321/1721778434.py:14: FutureWarning: You are using `torch.load` with `weights_only=False` (the current default value), which uses the default pickle module implicitly. It is possible to construct malicious pickle data which will execute arbitrary code during unpickling (See https://github.com/pytorch/pytorch/blob/main/SECURITY.md#untrusted-models for more details). In a future release, the default value for `weights_only` will be flipped to `True`. This limits the functions that could be executed during unpickling. Arbitrary objects will no longer be allowed to be loaded via this mode unless they are explicitly allowlisted by the user via `torch.serialization.add_safe_globals`. We recommend you start setting `weights_only=True` for any use case where you don't have full control of the loaded file. Please open an issue on GitHub for any issues related to this experimental feature.\n",
      "  model_state_dict = torch.load(\"model.pt\")\n"
     ]
    },
    {
     "name": "stdout",
     "output_type": "stream",
     "text": [
      "Could not load pre-trained model, using default weights\n",
      "Copying Conv weights: PyTorch torch.Size([4096, 1, 2, 2]) -> Triton torch.Size([4096, 1, 2, 2])\n",
      "Copying layer: BatchNorm2d\n",
      "Copying layer: ReLU\n",
      "Copying layer: MaxPool2d\n",
      "Copying Linear 1 weights: PyTorch torch.Size([8192, 36864]) -> Triton torch.Size([8192, 36864])\n",
      "Copying Linear 2 weights: PyTorch torch.Size([4096, 8192]) -> Triton torch.Size([4096, 8192])\n",
      "Copying Linear 3 weights: PyTorch torch.Size([2048, 4096]) -> Triton torch.Size([2048, 4096])\n",
      "Copying Linear 4 weights: PyTorch torch.Size([1024, 2048]) -> Triton torch.Size([1024, 2048])\n",
      "Copying Linear 5 weights: PyTorch torch.Size([256, 1024]) -> Triton torch.Size([256, 1024])\n",
      "Copying Linear 6 weights: PyTorch torch.Size([1, 256]) -> Triton torch.Size([1, 256])\n"
     ]
    },
    {
     "ename": "OutOfMemoryError",
     "evalue": "CUDA out of memory. Tried to allocate 1.12 GiB. GPU 4 has a total capacity of 23.64 GiB of which 700.12 MiB is free. Process 2883816 has 20.67 GiB memory in use. Including non-PyTorch memory, this process has 2.27 GiB memory in use. Of the allocated memory 660.74 MiB is allocated by PyTorch, and 1.19 GiB is reserved by PyTorch but unallocated. If reserved but unallocated memory is large try setting PYTORCH_CUDA_ALLOC_CONF=expandable_segments:True to avoid fragmentation.  See documentation for Memory Management  (https://pytorch.org/docs/stable/notes/cuda.html#environment-variables)",
     "output_type": "error",
     "traceback": [
      "\u001b[0;31m---------------------------------------------------------------------------\u001b[0m",
      "\u001b[0;31mOutOfMemoryError\u001b[0m                          Traceback (most recent call last)",
      "Cell \u001b[0;32mIn[4], line 1\u001b[0m\n\u001b[0;32m----> 1\u001b[0m \u001b[43mrun_inference\u001b[49m\u001b[43m(\u001b[49m\u001b[43mbatch_sizes\u001b[49m\u001b[38;5;241;43m=\u001b[39;49m\u001b[43m[\u001b[49m\u001b[38;5;241;43m256\u001b[39;49m\u001b[43m]\u001b[49m\u001b[43m,\u001b[49m\u001b[43m \u001b[49m\u001b[43mnum_batches\u001b[49m\u001b[38;5;241;43m=\u001b[39;49m\u001b[38;5;241;43m5\u001b[39;49m\u001b[43m)\u001b[49m\n",
      "Cell \u001b[0;32mIn[3], line 25\u001b[0m, in \u001b[0;36mrun_inference\u001b[0;34m(batch_sizes, num_batches)\u001b[0m\n\u001b[1;32m     23\u001b[0m pytorch_model \u001b[38;5;241m=\u001b[39m pytorch_model\u001b[38;5;241m.\u001b[39mto(device)\u001b[38;5;241m.\u001b[39mhalf()\n\u001b[1;32m     24\u001b[0m triton_model \u001b[38;5;241m=\u001b[39m convert_pytorch_to_triton_model(pytorch_model)\n\u001b[0;32m---> 25\u001b[0m triton_model \u001b[38;5;241m=\u001b[39m \u001b[43mtriton_model\u001b[49m\u001b[38;5;241;43m.\u001b[39;49m\u001b[43mto\u001b[49m\u001b[43m(\u001b[49m\u001b[43mdevice\u001b[49m\u001b[43m)\u001b[49m\u001b[38;5;241m.\u001b[39mhalf()\n\u001b[1;32m     27\u001b[0m \u001b[38;5;66;03m# Set to evaluation mode\u001b[39;00m\n\u001b[1;32m     28\u001b[0m triton_model\u001b[38;5;241m.\u001b[39meval()\n",
      "File \u001b[0;32m~/anaconda3/envs/triton/lib/python3.10/site-packages/torch/nn/modules/module.py:1340\u001b[0m, in \u001b[0;36mModule.to\u001b[0;34m(self, *args, **kwargs)\u001b[0m\n\u001b[1;32m   1337\u001b[0m         \u001b[38;5;28;01melse\u001b[39;00m:\n\u001b[1;32m   1338\u001b[0m             \u001b[38;5;28;01mraise\u001b[39;00m\n\u001b[0;32m-> 1340\u001b[0m \u001b[38;5;28;01mreturn\u001b[39;00m \u001b[38;5;28;43mself\u001b[39;49m\u001b[38;5;241;43m.\u001b[39;49m\u001b[43m_apply\u001b[49m\u001b[43m(\u001b[49m\u001b[43mconvert\u001b[49m\u001b[43m)\u001b[49m\n",
      "File \u001b[0;32m~/anaconda3/envs/triton/lib/python3.10/site-packages/torch/nn/modules/module.py:900\u001b[0m, in \u001b[0;36mModule._apply\u001b[0;34m(self, fn, recurse)\u001b[0m\n\u001b[1;32m    898\u001b[0m \u001b[38;5;28;01mif\u001b[39;00m recurse:\n\u001b[1;32m    899\u001b[0m     \u001b[38;5;28;01mfor\u001b[39;00m module \u001b[38;5;129;01min\u001b[39;00m \u001b[38;5;28mself\u001b[39m\u001b[38;5;241m.\u001b[39mchildren():\n\u001b[0;32m--> 900\u001b[0m         \u001b[43mmodule\u001b[49m\u001b[38;5;241;43m.\u001b[39;49m\u001b[43m_apply\u001b[49m\u001b[43m(\u001b[49m\u001b[43mfn\u001b[49m\u001b[43m)\u001b[49m\n\u001b[1;32m    902\u001b[0m \u001b[38;5;28;01mdef\u001b[39;00m \u001b[38;5;21mcompute_should_use_set_data\u001b[39m(tensor, tensor_applied):\n\u001b[1;32m    903\u001b[0m     \u001b[38;5;28;01mif\u001b[39;00m torch\u001b[38;5;241m.\u001b[39m_has_compatible_shallow_copy_type(tensor, tensor_applied):\n\u001b[1;32m    904\u001b[0m         \u001b[38;5;66;03m# If the new tensor has compatible tensor type as the existing tensor,\u001b[39;00m\n\u001b[1;32m    905\u001b[0m         \u001b[38;5;66;03m# the current behavior is to change the tensor in-place using `.data =`,\u001b[39;00m\n\u001b[0;32m   (...)\u001b[0m\n\u001b[1;32m    910\u001b[0m         \u001b[38;5;66;03m# global flag to let the user control whether they want the future\u001b[39;00m\n\u001b[1;32m    911\u001b[0m         \u001b[38;5;66;03m# behavior of overwriting the existing tensor or not.\u001b[39;00m\n",
      "File \u001b[0;32m~/anaconda3/envs/triton/lib/python3.10/site-packages/torch/nn/modules/module.py:900\u001b[0m, in \u001b[0;36mModule._apply\u001b[0;34m(self, fn, recurse)\u001b[0m\n\u001b[1;32m    898\u001b[0m \u001b[38;5;28;01mif\u001b[39;00m recurse:\n\u001b[1;32m    899\u001b[0m     \u001b[38;5;28;01mfor\u001b[39;00m module \u001b[38;5;129;01min\u001b[39;00m \u001b[38;5;28mself\u001b[39m\u001b[38;5;241m.\u001b[39mchildren():\n\u001b[0;32m--> 900\u001b[0m         \u001b[43mmodule\u001b[49m\u001b[38;5;241;43m.\u001b[39;49m\u001b[43m_apply\u001b[49m\u001b[43m(\u001b[49m\u001b[43mfn\u001b[49m\u001b[43m)\u001b[49m\n\u001b[1;32m    902\u001b[0m \u001b[38;5;28;01mdef\u001b[39;00m \u001b[38;5;21mcompute_should_use_set_data\u001b[39m(tensor, tensor_applied):\n\u001b[1;32m    903\u001b[0m     \u001b[38;5;28;01mif\u001b[39;00m torch\u001b[38;5;241m.\u001b[39m_has_compatible_shallow_copy_type(tensor, tensor_applied):\n\u001b[1;32m    904\u001b[0m         \u001b[38;5;66;03m# If the new tensor has compatible tensor type as the existing tensor,\u001b[39;00m\n\u001b[1;32m    905\u001b[0m         \u001b[38;5;66;03m# the current behavior is to change the tensor in-place using `.data =`,\u001b[39;00m\n\u001b[0;32m   (...)\u001b[0m\n\u001b[1;32m    910\u001b[0m         \u001b[38;5;66;03m# global flag to let the user control whether they want the future\u001b[39;00m\n\u001b[1;32m    911\u001b[0m         \u001b[38;5;66;03m# behavior of overwriting the existing tensor or not.\u001b[39;00m\n",
      "File \u001b[0;32m~/anaconda3/envs/triton/lib/python3.10/site-packages/torch/nn/modules/module.py:927\u001b[0m, in \u001b[0;36mModule._apply\u001b[0;34m(self, fn, recurse)\u001b[0m\n\u001b[1;32m    923\u001b[0m \u001b[38;5;66;03m# Tensors stored in modules are graph leaves, and we don't want to\u001b[39;00m\n\u001b[1;32m    924\u001b[0m \u001b[38;5;66;03m# track autograd history of `param_applied`, so we have to use\u001b[39;00m\n\u001b[1;32m    925\u001b[0m \u001b[38;5;66;03m# `with torch.no_grad():`\u001b[39;00m\n\u001b[1;32m    926\u001b[0m \u001b[38;5;28;01mwith\u001b[39;00m torch\u001b[38;5;241m.\u001b[39mno_grad():\n\u001b[0;32m--> 927\u001b[0m     param_applied \u001b[38;5;241m=\u001b[39m \u001b[43mfn\u001b[49m\u001b[43m(\u001b[49m\u001b[43mparam\u001b[49m\u001b[43m)\u001b[49m\n\u001b[1;32m    928\u001b[0m p_should_use_set_data \u001b[38;5;241m=\u001b[39m compute_should_use_set_data(param, param_applied)\n\u001b[1;32m    930\u001b[0m \u001b[38;5;66;03m# subclasses may have multiple child tensors so we need to use swap_tensors\u001b[39;00m\n",
      "File \u001b[0;32m~/anaconda3/envs/triton/lib/python3.10/site-packages/torch/nn/modules/module.py:1326\u001b[0m, in \u001b[0;36mModule.to.<locals>.convert\u001b[0;34m(t)\u001b[0m\n\u001b[1;32m   1319\u001b[0m     \u001b[38;5;28;01mif\u001b[39;00m convert_to_format \u001b[38;5;129;01mis\u001b[39;00m \u001b[38;5;129;01mnot\u001b[39;00m \u001b[38;5;28;01mNone\u001b[39;00m \u001b[38;5;129;01mand\u001b[39;00m t\u001b[38;5;241m.\u001b[39mdim() \u001b[38;5;129;01min\u001b[39;00m (\u001b[38;5;241m4\u001b[39m, \u001b[38;5;241m5\u001b[39m):\n\u001b[1;32m   1320\u001b[0m         \u001b[38;5;28;01mreturn\u001b[39;00m t\u001b[38;5;241m.\u001b[39mto(\n\u001b[1;32m   1321\u001b[0m             device,\n\u001b[1;32m   1322\u001b[0m             dtype \u001b[38;5;28;01mif\u001b[39;00m t\u001b[38;5;241m.\u001b[39mis_floating_point() \u001b[38;5;129;01mor\u001b[39;00m t\u001b[38;5;241m.\u001b[39mis_complex() \u001b[38;5;28;01melse\u001b[39;00m \u001b[38;5;28;01mNone\u001b[39;00m,\n\u001b[1;32m   1323\u001b[0m             non_blocking,\n\u001b[1;32m   1324\u001b[0m             memory_format\u001b[38;5;241m=\u001b[39mconvert_to_format,\n\u001b[1;32m   1325\u001b[0m         )\n\u001b[0;32m-> 1326\u001b[0m     \u001b[38;5;28;01mreturn\u001b[39;00m \u001b[43mt\u001b[49m\u001b[38;5;241;43m.\u001b[39;49m\u001b[43mto\u001b[49m\u001b[43m(\u001b[49m\n\u001b[1;32m   1327\u001b[0m \u001b[43m        \u001b[49m\u001b[43mdevice\u001b[49m\u001b[43m,\u001b[49m\n\u001b[1;32m   1328\u001b[0m \u001b[43m        \u001b[49m\u001b[43mdtype\u001b[49m\u001b[43m \u001b[49m\u001b[38;5;28;43;01mif\u001b[39;49;00m\u001b[43m \u001b[49m\u001b[43mt\u001b[49m\u001b[38;5;241;43m.\u001b[39;49m\u001b[43mis_floating_point\u001b[49m\u001b[43m(\u001b[49m\u001b[43m)\u001b[49m\u001b[43m \u001b[49m\u001b[38;5;129;43;01mor\u001b[39;49;00m\u001b[43m \u001b[49m\u001b[43mt\u001b[49m\u001b[38;5;241;43m.\u001b[39;49m\u001b[43mis_complex\u001b[49m\u001b[43m(\u001b[49m\u001b[43m)\u001b[49m\u001b[43m \u001b[49m\u001b[38;5;28;43;01melse\u001b[39;49;00m\u001b[43m \u001b[49m\u001b[38;5;28;43;01mNone\u001b[39;49;00m\u001b[43m,\u001b[49m\n\u001b[1;32m   1329\u001b[0m \u001b[43m        \u001b[49m\u001b[43mnon_blocking\u001b[49m\u001b[43m,\u001b[49m\n\u001b[1;32m   1330\u001b[0m \u001b[43m    \u001b[49m\u001b[43m)\u001b[49m\n\u001b[1;32m   1331\u001b[0m \u001b[38;5;28;01mexcept\u001b[39;00m \u001b[38;5;167;01mNotImplementedError\u001b[39;00m \u001b[38;5;28;01mas\u001b[39;00m e:\n\u001b[1;32m   1332\u001b[0m     \u001b[38;5;28;01mif\u001b[39;00m \u001b[38;5;28mstr\u001b[39m(e) \u001b[38;5;241m==\u001b[39m \u001b[38;5;124m\"\u001b[39m\u001b[38;5;124mCannot copy out of meta tensor; no data!\u001b[39m\u001b[38;5;124m\"\u001b[39m:\n",
      "\u001b[0;31mOutOfMemoryError\u001b[0m: CUDA out of memory. Tried to allocate 1.12 GiB. GPU 4 has a total capacity of 23.64 GiB of which 700.12 MiB is free. Process 2883816 has 20.67 GiB memory in use. Including non-PyTorch memory, this process has 2.27 GiB memory in use. Of the allocated memory 660.74 MiB is allocated by PyTorch, and 1.19 GiB is reserved by PyTorch but unallocated. If reserved but unallocated memory is large try setting PYTORCH_CUDA_ALLOC_CONF=expandable_segments:True to avoid fragmentation.  See documentation for Memory Management  (https://pytorch.org/docs/stable/notes/cuda.html#environment-variables)"
     ]
    }
   ],
   "source": [
    "run_inference(batch_sizes=[256], num_batches=5)"
   ]
  },
  {
   "cell_type": "code",
   "execution_count": 5,
   "metadata": {},
   "outputs": [],
   "source": [
    "def run_inference(batch_sizes=[64, 128, 256, 512], num_batches=5):\n",
    "    \"\"\"\n",
    "    Run inference on both PyTorch and Triton models using the train_loader dataset\n",
    "    \"\"\"\n",
    "    print(\"Starting inference test with real dataset...\")\n",
    "    \n",
    "    # Define device\n",
    "    device = torch.device(\"cuda:2\" if torch.cuda.is_available() else \"cpu\")\n",
    "    torch.cuda.set_device(device)  # Set default device\n",
    "    torch.cuda.empty_cache()  # Clear unused GPU memory\n",
    "    \n",
    "    # Set the generator for sampling - fix for issue #76750\n",
    "    if device.type == 'cuda':\n",
    "        generator = torch.Generator(device=device)\n",
    "    else:\n",
    "        generator = torch.Generator()\n",
    "    \n",
    "    # Try to load pre-trained model\n",
    "    try:\n",
    "        model_state_dict = torch.load(\"model.pt\")\n",
    "        print(\"Successfully loaded pre-trained model weights\")\n",
    "        pytorch_model = Net()\n",
    "        pytorch_model.load_state_dict(model_state_dict)\n",
    "    except:\n",
    "        print(\"Could not load pre-trained model, using default weights\")\n",
    "        pytorch_model = Net()\n",
    "    \n",
    "    # Convert model to use Triton implementations\n",
    "    pytorch_model = pytorch_model.to(device).half()\n",
    "    triton_model = convert_pytorch_to_triton_model(pytorch_model)\n",
    "    triton_model = triton_model.to(device).half()\n",
    "    \n",
    "    # Set to evaluation mode\n",
    "    pytorch_model.eval()\n",
    "    triton_model.eval()\n",
    "    \n",
    "    # Create the dataset once (we'll reuse it for different batch sizes)\n",
    "    try:\n",
    "        train_dataset = GDdataset(\"./train_data.csv\")\n",
    "        print(f\"Successfully loaded dataset with {len(train_dataset)} samples\")\n",
    "    except Exception as e:\n",
    "        print(f\"Error loading dataset: {e}\")\n",
    "        return\n",
    "    \n",
    "    # Test for different batch sizes\n",
    "    for batch_size in batch_sizes:\n",
    "        print(f\"\\n==== Batch Size: {batch_size} ====\")\n",
    "        \n",
    "        # Create a new DataLoader with the current batch size\n",
    "        # Setting shuffle=False to avoid the device mismatch issue\n",
    "        train_loader = DataLoader(\n",
    "            train_dataset, \n",
    "            batch_size=batch_size,\n",
    "            shuffle=False,  # Avoid the device mismatch with shuffle\n",
    "            num_workers=0   # Avoid multi-processing issues\n",
    "        )\n",
    "        \n",
    "        # Check if we can form at least one full batch\n",
    "        if len(train_dataset) < batch_size:\n",
    "            print(f\"Warning: Dataset size ({len(train_dataset)}) is smaller than batch size ({batch_size})\")\n",
    "        \n",
    "        # Store batches for testing - manually shuffle the dataset indices\n",
    "        indices = torch.randperm(len(train_dataset), device='cpu').tolist()  # Use CPU for indices\n",
    "        test_batches = []\n",
    "        batch_count = 0\n",
    "        \n",
    "        for i in range(0, min(len(indices), batch_size * num_batches), batch_size):\n",
    "            if batch_count >= num_batches:\n",
    "                break\n",
    "                \n",
    "            # Get a batch of indices\n",
    "            batch_indices = indices[i:i+batch_size]\n",
    "            if len(batch_indices) < batch_size:\n",
    "                # Skip incomplete batches\n",
    "                continue\n",
    "                \n",
    "            # Collect inputs and targets for this batch\n",
    "            batch_inputs = []\n",
    "            batch_targets = []\n",
    "            for idx in batch_indices:\n",
    "                inp, tgt = train_dataset[idx]\n",
    "                batch_inputs.append(inp)\n",
    "                batch_targets.append(tgt)\n",
    "            \n",
    "            # Stack the tensors into a batch\n",
    "            inputs = torch.stack(batch_inputs).to(device).half()\n",
    "            targets = torch.stack(batch_targets).to(device).half()\n",
    "            \n",
    "            test_batches.append((inputs, targets))\n",
    "            batch_count += 1\n",
    "        \n",
    "        # Ensure we have enough batches\n",
    "        if len(test_batches) < num_batches:\n",
    "            print(f\"Warning: Could only extract {len(test_batches)} batches instead of {num_batches}\")\n",
    "            num_actual_batches = len(test_batches)\n",
    "        else:\n",
    "            num_actual_batches = num_batches\n",
    "        \n",
    "        # Verify data shape\n",
    "        print(f\"Input shape: {test_batches[0][0].shape}\")\n",
    "        \n",
    "        # Warmup\n",
    "        for i in range(min(10, len(test_batches))):\n",
    "            inputs, _ = test_batches[i % len(test_batches)]\n",
    "            with torch.no_grad():\n",
    "                _ = pytorch_model(inputs)\n",
    "                _ = triton_model(inputs)\n",
    "        torch.cuda.synchronize()\n",
    "        \n",
    "        # PyTorch model inference\n",
    "        pytorch_times = []\n",
    "        pytorch_outputs = []\n",
    "        for i in range(num_actual_batches):\n",
    "            inputs, targets = test_batches[i]\n",
    "            torch.cuda.synchronize()\n",
    "            start_time = time.time()\n",
    "            with torch.no_grad():\n",
    "                pytorch_output = pytorch_model(inputs)\n",
    "            torch.cuda.synchronize()\n",
    "            end_time = time.time()\n",
    "            pytorch_times.append(end_time - start_time)\n",
    "            pytorch_outputs.append(pytorch_output)\n",
    "        \n",
    "        # Triton model inference\n",
    "        triton_times = []\n",
    "        triton_outputs = []\n",
    "        for i in range(num_actual_batches):\n",
    "            inputs, targets = test_batches[i]\n",
    "            torch.cuda.synchronize()\n",
    "            start_time = time.time()\n",
    "            with torch.no_grad():\n",
    "                triton_output = triton_model(inputs)\n",
    "            torch.cuda.synchronize()\n",
    "            end_time = time.time()\n",
    "            triton_times.append(end_time - start_time)\n",
    "            triton_outputs.append(triton_output)\n",
    "        \n",
    "        # Calculate performance metrics\n",
    "        avg_pytorch_time = sum(pytorch_times) / len(pytorch_times)\n",
    "        avg_triton_time = sum(triton_times) / len(triton_times)\n",
    "        speedup = avg_pytorch_time / avg_triton_time if avg_triton_time > 0 else float('inf')\n",
    "        \n",
    "        # Validate outputs are close\n",
    "        output_diffs = []\n",
    "        for pt_out, tr_out in zip(pytorch_outputs, triton_outputs):\n",
    "            output_diffs.append(torch.abs(pt_out - tr_out).mean().item())\n",
    "        avg_output_diff = sum(output_diffs) / len(output_diffs)\n",
    "        \n",
    "        # Print results\n",
    "        print(f\"PyTorch average inference time: {avg_pytorch_time*1000:.2f} ms\")\n",
    "        print(f\"Triton average inference time: {avg_triton_time*1000:.2f} ms\")\n",
    "        print(f\"Speedup: {speedup:.2f}x\")\n",
    "        print(f\"Output difference (mean absolute error): {avg_output_diff:.6f}\")\n",
    "        \n",
    "        # Print sample outputs for the first batch\n",
    "        batch_to_print = min(batch_size, pytorch_outputs[0].size(0))\n",
    "        print(f\"\\nSample output comparison (first {min(5, batch_to_print)} from first batch):\")\n",
    "        for i in range(min(5, batch_to_print)):\n",
    "            print(f\"  Sample {i}: PyTorch={pytorch_outputs[0][i].item():.4f}, Triton={triton_outputs[0][i].item():.4f}\")"
   ]
  },
  {
   "cell_type": "code",
   "execution_count": 7,
   "metadata": {},
   "outputs": [
    {
     "name": "stdout",
     "output_type": "stream",
     "text": [
      "Starting inference test with real dataset...\n",
      "Could not load pre-trained model, using default weights\n",
      "Copying Conv weights: PyTorch torch.Size([4096, 1, 2, 2]) -> Triton torch.Size([4096, 1, 2, 2])\n",
      "Copying layer: BatchNorm2d\n",
      "Copying layer: ReLU\n",
      "Copying layer: MaxPool2d\n",
      "Copying Linear 1 weights: PyTorch torch.Size([8192, 36864]) -> Triton torch.Size([8192, 36864])\n",
      "Copying Linear 2 weights: PyTorch torch.Size([4096, 8192]) -> Triton torch.Size([4096, 8192])\n",
      "Copying Linear 3 weights: PyTorch torch.Size([2048, 4096]) -> Triton torch.Size([2048, 4096])\n",
      "Copying Linear 4 weights: PyTorch torch.Size([1024, 2048]) -> Triton torch.Size([1024, 2048])\n",
      "Copying Linear 5 weights: PyTorch torch.Size([256, 1024]) -> Triton torch.Size([256, 1024])\n",
      "Copying Linear 6 weights: PyTorch torch.Size([1, 256]) -> Triton torch.Size([1, 256])\n"
     ]
    },
    {
     "name": "stderr",
     "output_type": "stream",
     "text": [
      "/tmp/ipykernel_548713/437780477.py:20: FutureWarning: You are using `torch.load` with `weights_only=False` (the current default value), which uses the default pickle module implicitly. It is possible to construct malicious pickle data which will execute arbitrary code during unpickling (See https://github.com/pytorch/pytorch/blob/main/SECURITY.md#untrusted-models for more details). In a future release, the default value for `weights_only` will be flipped to `True`. This limits the functions that could be executed during unpickling. Arbitrary objects will no longer be allowed to be loaded via this mode unless they are explicitly allowlisted by the user via `torch.serialization.add_safe_globals`. We recommend you start setting `weights_only=True` for any use case where you don't have full control of the loaded file. Please open an issue on GitHub for any issues related to this experimental feature.\n",
      "  model_state_dict = torch.load(\"model.pt\")\n"
     ]
    },
    {
     "name": "stdout",
     "output_type": "stream",
     "text": [
      "Successfully loaded dataset with 8773 samples\n",
      "\n",
      "==== Batch Size: 256 ====\n",
      "Input shape: torch.Size([256, 1, 6, 6])\n",
      "PyTorch average inference time: 1.74 ms\n",
      "Triton average inference time: 2.72 ms\n",
      "Speedup: 0.64x\n",
      "Output difference (mean absolute error): 0.000005\n",
      "\n",
      "Sample output comparison (first 5 from first batch):\n",
      "  Sample 0: PyTorch=0.4954, Triton=0.4954\n",
      "  Sample 1: PyTorch=0.4954, Triton=0.4954\n",
      "  Sample 2: PyTorch=0.4954, Triton=0.4954\n",
      "  Sample 3: PyTorch=0.4954, Triton=0.4954\n",
      "  Sample 4: PyTorch=0.4954, Triton=0.4954\n",
      "\n",
      "==== Batch Size: 512 ====\n",
      "Input shape: torch.Size([512, 1, 6, 6])\n",
      "PyTorch average inference time: 2.88 ms\n",
      "Triton average inference time: 4.73 ms\n",
      "Speedup: 0.61x\n",
      "Output difference (mean absolute error): 0.000005\n",
      "\n",
      "Sample output comparison (first 5 from first batch):\n",
      "  Sample 0: PyTorch=0.4954, Triton=0.4954\n",
      "  Sample 1: PyTorch=0.4954, Triton=0.4954\n",
      "  Sample 2: PyTorch=0.4954, Triton=0.4954\n",
      "  Sample 3: PyTorch=0.4954, Triton=0.4956\n",
      "  Sample 4: PyTorch=0.4954, Triton=0.4954\n",
      "\n",
      "==== Batch Size: 1024 ====\n",
      "Input shape: torch.Size([1024, 1, 6, 6])\n",
      "PyTorch average inference time: 5.79 ms\n",
      "Triton average inference time: 10.57 ms\n",
      "Speedup: 0.55x\n",
      "Output difference (mean absolute error): 0.000005\n",
      "\n",
      "Sample output comparison (first 5 from first batch):\n",
      "  Sample 0: PyTorch=0.4954, Triton=0.4954\n",
      "  Sample 1: PyTorch=0.4954, Triton=0.4954\n",
      "  Sample 2: PyTorch=0.4954, Triton=0.4954\n",
      "  Sample 3: PyTorch=0.4954, Triton=0.4954\n",
      "  Sample 4: PyTorch=0.4954, Triton=0.4954\n",
      "\n",
      "==== Batch Size: 2048 ====\n",
      "Warning: Could only extract 4 batches instead of 5\n",
      "Input shape: torch.Size([2048, 1, 6, 6])\n",
      "PyTorch average inference time: 12.19 ms\n",
      "Triton average inference time: 20.56 ms\n",
      "Speedup: 0.59x\n",
      "Output difference (mean absolute error): 0.000005\n",
      "\n",
      "Sample output comparison (first 5 from first batch):\n",
      "  Sample 0: PyTorch=0.4954, Triton=0.4954\n",
      "  Sample 1: PyTorch=0.4954, Triton=0.4954\n",
      "  Sample 2: PyTorch=0.4954, Triton=0.4954\n",
      "  Sample 3: PyTorch=0.4954, Triton=0.4954\n",
      "  Sample 4: PyTorch=0.4954, Triton=0.4954\n"
     ]
    }
   ],
   "source": [
    "# torch.set_default_device('cuda:2')\n",
    "run_inference(batch_sizes=[256, 512, 1024, 2048])"
   ]
  },
  {
   "cell_type": "markdown",
   "metadata": {},
   "source": [
    "### Model_JX\n",
    "\n",
    "+ attention"
   ]
  },
  {
   "cell_type": "code",
   "execution_count": null,
   "metadata": {},
   "outputs": [],
   "source": [
    "import torch\n",
    "import torch.nn as nn\n",
    "import torch.nn.functional as F\n",
    "import math\n",
    "from torch.utils.data import Dataset, DataLoader\n",
    "import pandas as pd\n",
    "import numpy as np\n",
    "from tqdm import tqdm\n",
    "import matplotlib.pyplot as plt\n",
    "\n",
    "class JXdataset(Dataset):\n",
    "    def __init__(self, path):\n",
    "        JX = pd.read_csv(path)\n",
    "        JX_data = torch.tensor(JX.values, dtype=torch.float32)\n",
    "        self.value, self.target = JX_data[:, :-1], JX_data[:, -1]\n",
    "    \n",
    "    def __getitem__(self, index):\n",
    "        return self.value[index], self.target[index]\n",
    "\n",
    "    def __len__(self):\n",
    "        return len(self.value)\n",
    "    \n",
    "\n",
    "batch_size = 64\n",
    "\n",
    "train_dataset = JXdataset(\"./jixie_train_data.csv\")\n",
    "train_loader = DataLoader(train_dataset, shuffle=True, batch_size=batch_size)\n",
    "test_dataset = JXdataset(\"./jixie_test_data.csv\")\n",
    "test_loader = DataLoader(test_dataset, shuffle=False, batch_size=batch_size)\n",
    "\n",
    "device = torch.device(\"cuda\" if torch.cuda.is_available() else \"cpu\")\n",
    "loss_func = nn.MSELoss()"
   ]
  },
  {
   "cell_type": "code",
   "execution_count": null,
   "metadata": {},
   "outputs": [],
   "source": [
    "# MultiheadAttention\n",
    "class MHA(nn.Module):\n",
    "    def __init__(self, config):\n",
    "        super().__init__()\n",
    "        assert config.n_embd % config.n_head == 0\n",
    "        # key, query, value projections\n",
    "        self.c_attn = nn.Linear(config.n_embd, 3 * config.n_embd)\n",
    "        # output projection\n",
    "        self.c_proj = nn.Linear(config.n_embd, config.n_embd)\n",
    "        self.c_proj.NANOGPT_SCALE_INIT = 1\n",
    "        # regularization\n",
    "        self.n_head = config.n_head\n",
    "        self.n_embd = config.n_embd\n",
    "\n",
    "    def forward(self, x):\n",
    "        B, T, C = x.size() # batch size, sequence length, embedding dimensionality\n",
    "        qkv = self.c_attn(x)\n",
    "        # 使用chunk更清晰地将张量分成三等份\n",
    "        q, k, v = qkv.chunk(3, dim=2)\n",
    "        \n",
    "        # 重塑为多头格式 [B, nh, T, hs]\n",
    "        head_size = self.n_embd // self.n_head\n",
    "        k = k.view(B, T, self.n_head, head_size).transpose(1, 2)\n",
    "        q = q.view(B, T, self.n_head, head_size).transpose(1, 2)\n",
    "        v = v.view(B, T, self.n_head, head_size).transpose(1, 2)\n",
    "\n",
    "        # 计算注意力\n",
    "        att = (q @ k.transpose(-2, -1)) * (1.0 / math.sqrt(head_size))\n",
    "        att = F.softmax(att, dim=-1)\n",
    "        y = att @ v\n",
    "        \n",
    "        # 重塑回原始形状\n",
    "        y = y.transpose(1, 2).contiguous().view(B, T, C)\n",
    "        \n",
    "        # 输出投影\n",
    "        y = self.c_proj(y)\n",
    "        return y\n",
    "\n",
    "# 创建回归模型\n",
    "class RegressionModel(nn.Module):\n",
    "    def __init__(self, input_dim=4, hidden_dim=64, n_head=4):\n",
    "        super().__init__()\n",
    "        # MHA配置\n",
    "        self.config = type('Config', (), {\n",
    "            'n_embd': hidden_dim,\n",
    "            'n_head': n_head\n",
    "        })\n",
    "        \n",
    "        # 输入嵌入\n",
    "        self.input_embedding = nn.Linear(input_dim, hidden_dim)\n",
    "        \n",
    "        # MHA层\n",
    "        self.mha = MHA(self.config)\n",
    "        \n",
    "        # 输出层\n",
    "        self.output_layer = nn.Linear(hidden_dim, 1)\n",
    "        \n",
    "    def forward(self, x):\n",
    "        # x: [batch_size, input_features]\n",
    "        x = x.unsqueeze(1)  # [batch_size, 1, input_features]\n",
    "        x = self.input_embedding(x)  # [batch_size, 1, hidden_dim]\n",
    "        x = self.mha(x)  # [batch_size, 1, hidden_dim]\n",
    "        x = self.output_layer(x)  # [batch_size, 1, 1]\n",
    "        x = x.squeeze(-1).squeeze(-1)  # [batch_size]\n",
    "        return x"
   ]
  },
  {
   "cell_type": "code",
   "execution_count": 8,
   "metadata": {},
   "outputs": [
    {
     "name": "stderr",
     "output_type": "stream",
     "text": [
      "Epoch 1 Training: 100%|██████████| 7/7 [00:00<00:00, 261.03it/s, loss=2.16e+4]\n"
     ]
    },
    {
     "name": "stdout",
     "output_type": "stream",
     "text": [
      "训练损失: 21586.188511\n",
      "测试损失: 16578.076904\n"
     ]
    },
    {
     "name": "stderr",
     "output_type": "stream",
     "text": [
      "Epoch 2 Training: 100%|██████████| 7/7 [00:00<00:00, 298.88it/s, loss=6.49e+3]\n"
     ]
    },
    {
     "name": "stdout",
     "output_type": "stream",
     "text": [
      "训练损失: 6493.093576\n",
      "测试损失: 2836.002197\n"
     ]
    },
    {
     "name": "stderr",
     "output_type": "stream",
     "text": [
      "Epoch 3 Training: 100%|██████████| 7/7 [00:00<00:00, 289.08it/s, loss=2.18e+3]\n"
     ]
    },
    {
     "name": "stdout",
     "output_type": "stream",
     "text": [
      "训练损失: 2176.597621\n",
      "测试损失: 300.843681\n"
     ]
    },
    {
     "name": "stderr",
     "output_type": "stream",
     "text": [
      "Epoch 4 Training: 100%|██████████| 7/7 [00:00<00:00, 279.54it/s, loss=935]\n"
     ]
    },
    {
     "name": "stdout",
     "output_type": "stream",
     "text": [
      "训练损失: 935.374662\n",
      "测试损失: 0.064594\n"
     ]
    },
    {
     "name": "stderr",
     "output_type": "stream",
     "text": [
      "Epoch 5 Training: 100%|██████████| 7/7 [00:00<00:00, 291.39it/s, loss=469]\n"
     ]
    },
    {
     "name": "stdout",
     "output_type": "stream",
     "text": [
      "训练损失: 468.618117\n",
      "测试损失: 90.149326\n"
     ]
    },
    {
     "name": "stderr",
     "output_type": "stream",
     "text": [
      "Epoch 6 Training: 100%|██████████| 7/7 [00:00<00:00, 287.67it/s, loss=248]\n"
     ]
    },
    {
     "name": "stdout",
     "output_type": "stream",
     "text": [
      "训练损失: 247.583329\n",
      "测试损失: 181.986626\n"
     ]
    },
    {
     "name": "stderr",
     "output_type": "stream",
     "text": [
      "Epoch 7 Training: 100%|██████████| 7/7 [00:00<00:00, 236.09it/s, loss=135]\n"
     ]
    },
    {
     "name": "stdout",
     "output_type": "stream",
     "text": [
      "训练损失: 135.105808\n",
      "测试损失: 173.409615\n"
     ]
    },
    {
     "name": "stderr",
     "output_type": "stream",
     "text": [
      "Epoch 8 Training: 100%|██████████| 7/7 [00:00<00:00, 246.25it/s, loss=76.8]\n"
     ]
    },
    {
     "name": "stdout",
     "output_type": "stream",
     "text": [
      "训练损失: 76.785007\n",
      "测试损失: 79.119289\n"
     ]
    },
    {
     "name": "stderr",
     "output_type": "stream",
     "text": [
      "Epoch 9 Training: 100%|██████████| 7/7 [00:00<00:00, 246.83it/s, loss=34.5]\n"
     ]
    },
    {
     "name": "stdout",
     "output_type": "stream",
     "text": [
      "训练损失: 34.464949\n",
      "测试损失: 10.032657\n"
     ]
    },
    {
     "name": "stderr",
     "output_type": "stream",
     "text": [
      "Epoch 10 Training: 100%|██████████| 7/7 [00:00<00:00, 244.21it/s, loss=12.9]\n"
     ]
    },
    {
     "name": "stdout",
     "output_type": "stream",
     "text": [
      "训练损失: 12.861949\n",
      "测试损失: 2.969271\n"
     ]
    },
    {
     "name": "stderr",
     "output_type": "stream",
     "text": [
      "Epoch 11 Training: 100%|██████████| 7/7 [00:00<00:00, 247.66it/s, loss=7.16]\n"
     ]
    },
    {
     "name": "stdout",
     "output_type": "stream",
     "text": [
      "训练损失: 7.158984\n",
      "测试损失: 9.560535\n"
     ]
    },
    {
     "name": "stderr",
     "output_type": "stream",
     "text": [
      "Epoch 12 Training: 100%|██████████| 7/7 [00:00<00:00, 246.33it/s, loss=4.63]\n"
     ]
    },
    {
     "name": "stdout",
     "output_type": "stream",
     "text": [
      "训练损失: 4.633578\n",
      "测试损失: 2.583803\n"
     ]
    },
    {
     "name": "stderr",
     "output_type": "stream",
     "text": [
      "Epoch 13 Training: 100%|██████████| 7/7 [00:00<00:00, 239.08it/s, loss=1.57]\n"
     ]
    },
    {
     "name": "stdout",
     "output_type": "stream",
     "text": [
      "训练损失: 1.573255\n",
      "测试损失: 0.388088\n"
     ]
    },
    {
     "name": "stderr",
     "output_type": "stream",
     "text": [
      "Epoch 14 Training: 100%|██████████| 7/7 [00:00<00:00, 246.58it/s, loss=0.938]\n"
     ]
    },
    {
     "name": "stdout",
     "output_type": "stream",
     "text": [
      "训练损失: 0.937782\n",
      "测试损失: 1.210484\n"
     ]
    },
    {
     "name": "stderr",
     "output_type": "stream",
     "text": [
      "Epoch 15 Training: 100%|██████████| 7/7 [00:00<00:00, 247.96it/s, loss=0.565]\n"
     ]
    },
    {
     "name": "stdout",
     "output_type": "stream",
     "text": [
      "训练损失: 0.564787\n",
      "测试损失: 0.133461\n"
     ]
    },
    {
     "name": "stderr",
     "output_type": "stream",
     "text": [
      "Epoch 16 Training: 100%|██████████| 7/7 [00:00<00:00, 247.52it/s, loss=0.244]\n"
     ]
    },
    {
     "name": "stdout",
     "output_type": "stream",
     "text": [
      "训练损失: 0.243963\n",
      "测试损失: 0.312365\n"
     ]
    },
    {
     "name": "stderr",
     "output_type": "stream",
     "text": [
      "Epoch 17 Training: 100%|██████████| 7/7 [00:00<00:00, 246.82it/s, loss=0.181]\n"
     ]
    },
    {
     "name": "stdout",
     "output_type": "stream",
     "text": [
      "训练损失: 0.181001\n",
      "测试损失: 0.097345\n"
     ]
    },
    {
     "name": "stderr",
     "output_type": "stream",
     "text": [
      "Epoch 18 Training: 100%|██████████| 7/7 [00:00<00:00, 247.89it/s, loss=0.106]\n"
     ]
    },
    {
     "name": "stdout",
     "output_type": "stream",
     "text": [
      "训练损失: 0.105916\n",
      "测试损失: 0.078510\n"
     ]
    },
    {
     "name": "stderr",
     "output_type": "stream",
     "text": [
      "Epoch 19 Training: 100%|██████████| 7/7 [00:00<00:00, 265.70it/s, loss=0.096]\n"
     ]
    },
    {
     "name": "stdout",
     "output_type": "stream",
     "text": [
      "训练损失: 0.095955\n",
      "测试损失: 0.081483\n"
     ]
    },
    {
     "name": "stderr",
     "output_type": "stream",
     "text": [
      "Epoch 20 Training: 100%|██████████| 7/7 [00:00<00:00, 284.17it/s, loss=0.0841]\n"
     ]
    },
    {
     "name": "stdout",
     "output_type": "stream",
     "text": [
      "训练损失: 0.084088\n",
      "测试损失: 0.072042\n"
     ]
    },
    {
     "name": "stderr",
     "output_type": "stream",
     "text": [
      "Epoch 21 Training: 100%|██████████| 7/7 [00:00<00:00, 261.61it/s, loss=0.0818]\n"
     ]
    },
    {
     "name": "stdout",
     "output_type": "stream",
     "text": [
      "训练损失: 0.081777\n",
      "测试损失: 0.069579\n"
     ]
    },
    {
     "name": "stderr",
     "output_type": "stream",
     "text": [
      "Epoch 22 Training: 100%|██████████| 7/7 [00:00<00:00, 218.56it/s, loss=0.0829]\n"
     ]
    },
    {
     "name": "stdout",
     "output_type": "stream",
     "text": [
      "训练损失: 0.082884\n",
      "测试损失: 0.071619\n"
     ]
    },
    {
     "name": "stderr",
     "output_type": "stream",
     "text": [
      "Epoch 23 Training: 100%|██████████| 7/7 [00:00<00:00, 229.63it/s, loss=0.0822]\n"
     ]
    },
    {
     "name": "stdout",
     "output_type": "stream",
     "text": [
      "训练损失: 0.082245\n",
      "测试损失: 0.070467\n"
     ]
    },
    {
     "name": "stderr",
     "output_type": "stream",
     "text": [
      "Epoch 24 Training: 100%|██████████| 7/7 [00:00<00:00, 229.81it/s, loss=0.0838]\n"
     ]
    },
    {
     "name": "stdout",
     "output_type": "stream",
     "text": [
      "训练损失: 0.083759\n",
      "测试损失: 0.069627\n"
     ]
    },
    {
     "name": "stderr",
     "output_type": "stream",
     "text": [
      "Epoch 25 Training: 100%|██████████| 7/7 [00:00<00:00, 240.46it/s, loss=0.0847]\n"
     ]
    },
    {
     "name": "stdout",
     "output_type": "stream",
     "text": [
      "训练损失: 0.084670\n",
      "测试损失: 0.073262\n"
     ]
    },
    {
     "name": "stderr",
     "output_type": "stream",
     "text": [
      "Epoch 26 Training: 100%|██████████| 7/7 [00:00<00:00, 240.30it/s, loss=0.0844]\n"
     ]
    },
    {
     "name": "stdout",
     "output_type": "stream",
     "text": [
      "训练损失: 0.084396\n",
      "测试损失: 0.079057\n"
     ]
    },
    {
     "name": "stderr",
     "output_type": "stream",
     "text": [
      "Epoch 27 Training: 100%|██████████| 7/7 [00:00<00:00, 210.78it/s, loss=0.0869]\n"
     ]
    },
    {
     "name": "stdout",
     "output_type": "stream",
     "text": [
      "训练损失: 0.086885\n",
      "测试损失: 0.071393\n"
     ]
    },
    {
     "name": "stderr",
     "output_type": "stream",
     "text": [
      "Epoch 28 Training: 100%|██████████| 7/7 [00:00<00:00, 243.68it/s, loss=0.0839]\n"
     ]
    },
    {
     "name": "stdout",
     "output_type": "stream",
     "text": [
      "训练损失: 0.083927\n",
      "测试损失: 0.069290\n"
     ]
    },
    {
     "name": "stderr",
     "output_type": "stream",
     "text": [
      "Epoch 29 Training: 100%|██████████| 7/7 [00:00<00:00, 232.32it/s, loss=0.0819]\n"
     ]
    },
    {
     "name": "stdout",
     "output_type": "stream",
     "text": [
      "训练损失: 0.081926\n",
      "测试损失: 0.068722\n"
     ]
    },
    {
     "name": "stderr",
     "output_type": "stream",
     "text": [
      "Epoch 30 Training: 100%|██████████| 7/7 [00:00<00:00, 230.18it/s, loss=0.0832]\n"
     ]
    },
    {
     "name": "stdout",
     "output_type": "stream",
     "text": [
      "训练损失: 0.083160\n",
      "测试损失: 0.071651\n"
     ]
    },
    {
     "name": "stderr",
     "output_type": "stream",
     "text": [
      "Epoch 31 Training: 100%|██████████| 7/7 [00:00<00:00, 233.91it/s, loss=0.0819]\n"
     ]
    },
    {
     "name": "stdout",
     "output_type": "stream",
     "text": [
      "训练损失: 0.081919\n",
      "测试损失: 0.069127\n"
     ]
    },
    {
     "name": "stderr",
     "output_type": "stream",
     "text": [
      "Epoch 32 Training: 100%|██████████| 7/7 [00:00<00:00, 231.97it/s, loss=0.0813]\n"
     ]
    },
    {
     "name": "stdout",
     "output_type": "stream",
     "text": [
      "训练损失: 0.081330\n",
      "测试损失: 0.075491\n"
     ]
    },
    {
     "name": "stderr",
     "output_type": "stream",
     "text": [
      "Epoch 33 Training: 100%|██████████| 7/7 [00:00<00:00, 231.77it/s, loss=0.0845]\n"
     ]
    },
    {
     "name": "stdout",
     "output_type": "stream",
     "text": [
      "训练损失: 0.084485\n",
      "测试损失: 0.077919\n"
     ]
    },
    {
     "name": "stderr",
     "output_type": "stream",
     "text": [
      "Epoch 34 Training: 100%|██████████| 7/7 [00:00<00:00, 234.30it/s, loss=0.0861]\n"
     ]
    },
    {
     "name": "stdout",
     "output_type": "stream",
     "text": [
      "训练损失: 0.086053\n",
      "测试损失: 0.075643\n"
     ]
    },
    {
     "name": "stderr",
     "output_type": "stream",
     "text": [
      "Epoch 35 Training: 100%|██████████| 7/7 [00:00<00:00, 232.85it/s, loss=0.0858]\n"
     ]
    },
    {
     "name": "stdout",
     "output_type": "stream",
     "text": [
      "训练损失: 0.085800\n",
      "测试损失: 0.075258\n"
     ]
    },
    {
     "name": "stderr",
     "output_type": "stream",
     "text": [
      "Epoch 36 Training: 100%|██████████| 7/7 [00:00<00:00, 233.06it/s, loss=0.083]\n"
     ]
    },
    {
     "name": "stdout",
     "output_type": "stream",
     "text": [
      "训练损失: 0.082961\n",
      "测试损失: 0.079745\n"
     ]
    },
    {
     "name": "stderr",
     "output_type": "stream",
     "text": [
      "Epoch 37 Training: 100%|██████████| 7/7 [00:00<00:00, 235.57it/s, loss=0.0861]\n"
     ]
    },
    {
     "name": "stdout",
     "output_type": "stream",
     "text": [
      "训练损失: 0.086062\n",
      "测试损失: 0.068787\n"
     ]
    },
    {
     "name": "stderr",
     "output_type": "stream",
     "text": [
      "Epoch 38 Training: 100%|██████████| 7/7 [00:00<00:00, 237.12it/s, loss=0.0856]\n"
     ]
    },
    {
     "name": "stdout",
     "output_type": "stream",
     "text": [
      "训练损失: 0.085622\n",
      "测试损失: 0.068519\n"
     ]
    },
    {
     "name": "stderr",
     "output_type": "stream",
     "text": [
      "Epoch 39 Training: 100%|██████████| 7/7 [00:00<00:00, 234.94it/s, loss=0.0825]\n"
     ]
    },
    {
     "name": "stdout",
     "output_type": "stream",
     "text": [
      "训练损失: 0.082515\n",
      "测试损失: 0.083489\n"
     ]
    },
    {
     "name": "stderr",
     "output_type": "stream",
     "text": [
      "Epoch 40 Training: 100%|██████████| 7/7 [00:00<00:00, 245.40it/s, loss=0.0909]\n"
     ]
    },
    {
     "name": "stdout",
     "output_type": "stream",
     "text": [
      "训练损失: 0.090859\n",
      "测试损失: 0.077634\n"
     ]
    },
    {
     "name": "stderr",
     "output_type": "stream",
     "text": [
      "Epoch 41 Training: 100%|██████████| 7/7 [00:00<00:00, 251.32it/s, loss=0.0864]\n"
     ]
    },
    {
     "name": "stdout",
     "output_type": "stream",
     "text": [
      "训练损失: 0.086436\n",
      "测试损失: 0.083288\n"
     ]
    },
    {
     "name": "stderr",
     "output_type": "stream",
     "text": [
      "Epoch 42 Training: 100%|██████████| 7/7 [00:00<00:00, 248.67it/s, loss=0.087]\n"
     ]
    },
    {
     "name": "stdout",
     "output_type": "stream",
     "text": [
      "训练损失: 0.087030\n",
      "测试损失: 0.095852\n"
     ]
    },
    {
     "name": "stderr",
     "output_type": "stream",
     "text": [
      "Epoch 43 Training: 100%|██████████| 7/7 [00:00<00:00, 245.56it/s, loss=0.0857]\n"
     ]
    },
    {
     "name": "stdout",
     "output_type": "stream",
     "text": [
      "训练损失: 0.085709\n",
      "测试损失: 0.077419\n"
     ]
    },
    {
     "name": "stderr",
     "output_type": "stream",
     "text": [
      "Epoch 44 Training: 100%|██████████| 7/7 [00:00<00:00, 251.46it/s, loss=0.0832]\n"
     ]
    },
    {
     "name": "stdout",
     "output_type": "stream",
     "text": [
      "训练损失: 0.083217\n",
      "测试损失: 0.069281\n"
     ]
    },
    {
     "name": "stderr",
     "output_type": "stream",
     "text": [
      "Epoch 45 Training: 100%|██████████| 7/7 [00:00<00:00, 249.23it/s, loss=0.081]\n"
     ]
    },
    {
     "name": "stdout",
     "output_type": "stream",
     "text": [
      "训练损失: 0.080957\n",
      "测试损失: 0.068648\n"
     ]
    },
    {
     "name": "stderr",
     "output_type": "stream",
     "text": [
      "Epoch 46 Training: 100%|██████████| 7/7 [00:00<00:00, 233.14it/s, loss=0.0844]\n"
     ]
    },
    {
     "name": "stdout",
     "output_type": "stream",
     "text": [
      "训练损失: 0.084388\n",
      "测试损失: 0.068975\n"
     ]
    },
    {
     "name": "stderr",
     "output_type": "stream",
     "text": [
      "Epoch 47 Training: 100%|██████████| 7/7 [00:00<00:00, 236.02it/s, loss=0.081]\n"
     ]
    },
    {
     "name": "stdout",
     "output_type": "stream",
     "text": [
      "训练损失: 0.081033\n",
      "测试损失: 0.074838\n"
     ]
    },
    {
     "name": "stderr",
     "output_type": "stream",
     "text": [
      "Epoch 48 Training: 100%|██████████| 7/7 [00:00<00:00, 238.66it/s, loss=0.0892]\n"
     ]
    },
    {
     "name": "stdout",
     "output_type": "stream",
     "text": [
      "训练损失: 0.089183\n",
      "测试损失: 0.080680\n"
     ]
    },
    {
     "name": "stderr",
     "output_type": "stream",
     "text": [
      "Epoch 49 Training: 100%|██████████| 7/7 [00:00<00:00, 216.89it/s, loss=0.0869]\n"
     ]
    },
    {
     "name": "stdout",
     "output_type": "stream",
     "text": [
      "训练损失: 0.086909\n",
      "测试损失: 0.069070\n"
     ]
    },
    {
     "name": "stderr",
     "output_type": "stream",
     "text": [
      "Epoch 50 Training: 100%|██████████| 7/7 [00:00<00:00, 214.83it/s, loss=0.0829]\n"
     ]
    },
    {
     "name": "stdout",
     "output_type": "stream",
     "text": [
      "训练损失: 0.082919\n",
      "测试损失: 0.069141\n"
     ]
    },
    {
     "name": "stderr",
     "output_type": "stream",
     "text": [
      "Epoch 51 Training: 100%|██████████| 7/7 [00:00<00:00, 236.54it/s, loss=0.0826]\n"
     ]
    },
    {
     "name": "stdout",
     "output_type": "stream",
     "text": [
      "训练损失: 0.082578\n",
      "测试损失: 0.071304\n"
     ]
    },
    {
     "name": "stderr",
     "output_type": "stream",
     "text": [
      "Epoch 52 Training: 100%|██████████| 7/7 [00:00<00:00, 236.60it/s, loss=0.0839]\n"
     ]
    },
    {
     "name": "stdout",
     "output_type": "stream",
     "text": [
      "训练损失: 0.083881\n",
      "测试损失: 0.068956\n"
     ]
    },
    {
     "name": "stderr",
     "output_type": "stream",
     "text": [
      "Epoch 53 Training: 100%|██████████| 7/7 [00:00<00:00, 226.52it/s, loss=0.0858]\n"
     ]
    },
    {
     "name": "stdout",
     "output_type": "stream",
     "text": [
      "训练损失: 0.085808\n",
      "测试损失: 0.068190\n"
     ]
    },
    {
     "name": "stderr",
     "output_type": "stream",
     "text": [
      "Epoch 54 Training: 100%|██████████| 7/7 [00:00<00:00, 238.29it/s, loss=0.0836]\n"
     ]
    },
    {
     "name": "stdout",
     "output_type": "stream",
     "text": [
      "训练损失: 0.083562\n",
      "测试损失: 0.068037\n"
     ]
    },
    {
     "name": "stderr",
     "output_type": "stream",
     "text": [
      "Epoch 55 Training: 100%|██████████| 7/7 [00:00<00:00, 222.96it/s, loss=0.0823]\n"
     ]
    },
    {
     "name": "stdout",
     "output_type": "stream",
     "text": [
      "训练损失: 0.082265\n",
      "测试损失: 0.070074\n"
     ]
    },
    {
     "name": "stderr",
     "output_type": "stream",
     "text": [
      "Epoch 56 Training: 100%|██████████| 7/7 [00:00<00:00, 229.11it/s, loss=0.0853]\n"
     ]
    },
    {
     "name": "stdout",
     "output_type": "stream",
     "text": [
      "训练损失: 0.085257\n",
      "测试损失: 0.076599\n"
     ]
    },
    {
     "name": "stderr",
     "output_type": "stream",
     "text": [
      "Epoch 57 Training: 100%|██████████| 7/7 [00:00<00:00, 239.17it/s, loss=0.0839]\n"
     ]
    },
    {
     "name": "stdout",
     "output_type": "stream",
     "text": [
      "训练损失: 0.083850\n",
      "测试损失: 0.074015\n"
     ]
    },
    {
     "name": "stderr",
     "output_type": "stream",
     "text": [
      "Epoch 58 Training: 100%|██████████| 7/7 [00:00<00:00, 269.74it/s, loss=0.0827]\n"
     ]
    },
    {
     "name": "stdout",
     "output_type": "stream",
     "text": [
      "训练损失: 0.082654\n",
      "测试损失: 0.082335\n"
     ]
    },
    {
     "name": "stderr",
     "output_type": "stream",
     "text": [
      "Epoch 59 Training: 100%|██████████| 7/7 [00:00<00:00, 269.12it/s, loss=0.0875]\n"
     ]
    },
    {
     "name": "stdout",
     "output_type": "stream",
     "text": [
      "训练损失: 0.087489\n",
      "测试损失: 0.134921\n"
     ]
    },
    {
     "name": "stderr",
     "output_type": "stream",
     "text": [
      "Epoch 60 Training: 100%|██████████| 7/7 [00:00<00:00, 268.93it/s, loss=0.096]\n"
     ]
    },
    {
     "name": "stdout",
     "output_type": "stream",
     "text": [
      "训练损失: 0.096013\n",
      "测试损失: 0.091820\n"
     ]
    },
    {
     "name": "stderr",
     "output_type": "stream",
     "text": [
      "Epoch 61 Training: 100%|██████████| 7/7 [00:00<00:00, 270.08it/s, loss=0.0871]\n"
     ]
    },
    {
     "name": "stdout",
     "output_type": "stream",
     "text": [
      "训练损失: 0.087086\n",
      "测试损失: 0.070920\n"
     ]
    },
    {
     "name": "stderr",
     "output_type": "stream",
     "text": [
      "Epoch 62 Training: 100%|██████████| 7/7 [00:00<00:00, 269.51it/s, loss=0.0814]\n"
     ]
    },
    {
     "name": "stdout",
     "output_type": "stream",
     "text": [
      "训练损失: 0.081364\n",
      "测试损失: 0.067781\n"
     ]
    },
    {
     "name": "stderr",
     "output_type": "stream",
     "text": [
      "Epoch 63 Training: 100%|██████████| 7/7 [00:00<00:00, 272.67it/s, loss=0.0818]\n"
     ]
    },
    {
     "name": "stdout",
     "output_type": "stream",
     "text": [
      "训练损失: 0.081826\n",
      "测试损失: 0.068446\n"
     ]
    },
    {
     "name": "stderr",
     "output_type": "stream",
     "text": [
      "Epoch 64 Training: 100%|██████████| 7/7 [00:00<00:00, 270.04it/s, loss=0.0866]\n"
     ]
    },
    {
     "name": "stdout",
     "output_type": "stream",
     "text": [
      "训练损失: 0.086586\n",
      "测试损失: 0.068074\n"
     ]
    },
    {
     "name": "stderr",
     "output_type": "stream",
     "text": [
      "Epoch 65 Training: 100%|██████████| 7/7 [00:00<00:00, 257.26it/s, loss=0.0899]\n"
     ]
    },
    {
     "name": "stdout",
     "output_type": "stream",
     "text": [
      "训练损失: 0.089906\n",
      "测试损失: 0.086352\n"
     ]
    },
    {
     "name": "stderr",
     "output_type": "stream",
     "text": [
      "Epoch 66 Training: 100%|██████████| 7/7 [00:00<00:00, 270.92it/s, loss=0.0917]\n"
     ]
    },
    {
     "name": "stdout",
     "output_type": "stream",
     "text": [
      "训练损失: 0.091701\n",
      "测试损失: 0.095199\n"
     ]
    },
    {
     "name": "stderr",
     "output_type": "stream",
     "text": [
      "Epoch 67 Training: 100%|██████████| 7/7 [00:00<00:00, 269.35it/s, loss=0.0924]\n"
     ]
    },
    {
     "name": "stdout",
     "output_type": "stream",
     "text": [
      "训练损失: 0.092393\n",
      "测试损失: 0.072737\n"
     ]
    },
    {
     "name": "stderr",
     "output_type": "stream",
     "text": [
      "Epoch 68 Training: 100%|██████████| 7/7 [00:00<00:00, 234.42it/s, loss=0.0835]\n"
     ]
    },
    {
     "name": "stdout",
     "output_type": "stream",
     "text": [
      "训练损失: 0.083486\n",
      "测试损失: 0.073228\n"
     ]
    },
    {
     "name": "stderr",
     "output_type": "stream",
     "text": [
      "Epoch 69 Training: 100%|██████████| 7/7 [00:00<00:00, 233.26it/s, loss=0.0882]\n"
     ]
    },
    {
     "name": "stdout",
     "output_type": "stream",
     "text": [
      "训练损失: 0.088164\n",
      "测试损失: 0.067913\n"
     ]
    },
    {
     "name": "stderr",
     "output_type": "stream",
     "text": [
      "Epoch 70 Training: 100%|██████████| 7/7 [00:00<00:00, 236.65it/s, loss=0.0823]\n"
     ]
    },
    {
     "name": "stdout",
     "output_type": "stream",
     "text": [
      "训练损失: 0.082281\n",
      "测试损失: 0.068187\n"
     ]
    },
    {
     "name": "stderr",
     "output_type": "stream",
     "text": [
      "Epoch 71 Training: 100%|██████████| 7/7 [00:00<00:00, 236.90it/s, loss=0.0836]\n"
     ]
    },
    {
     "name": "stdout",
     "output_type": "stream",
     "text": [
      "训练损失: 0.083640\n",
      "测试损失: 0.068828\n"
     ]
    },
    {
     "name": "stderr",
     "output_type": "stream",
     "text": [
      "Epoch 72 Training: 100%|██████████| 7/7 [00:00<00:00, 234.06it/s, loss=0.0843]\n"
     ]
    },
    {
     "name": "stdout",
     "output_type": "stream",
     "text": [
      "训练损失: 0.084342\n",
      "测试损失: 0.068088\n"
     ]
    },
    {
     "name": "stderr",
     "output_type": "stream",
     "text": [
      "Epoch 73 Training: 100%|██████████| 7/7 [00:00<00:00, 223.68it/s, loss=0.0813]\n"
     ]
    },
    {
     "name": "stdout",
     "output_type": "stream",
     "text": [
      "训练损失: 0.081275\n",
      "测试损失: 0.067476\n"
     ]
    },
    {
     "name": "stderr",
     "output_type": "stream",
     "text": [
      "Epoch 74 Training: 100%|██████████| 7/7 [00:00<00:00, 226.55it/s, loss=0.0818]\n"
     ]
    },
    {
     "name": "stdout",
     "output_type": "stream",
     "text": [
      "训练损失: 0.081814\n",
      "测试损失: 0.068171\n"
     ]
    },
    {
     "name": "stderr",
     "output_type": "stream",
     "text": [
      "Epoch 75 Training: 100%|██████████| 7/7 [00:00<00:00, 236.40it/s, loss=0.0818]\n"
     ]
    },
    {
     "name": "stdout",
     "output_type": "stream",
     "text": [
      "训练损失: 0.081772\n",
      "测试损失: 0.071496\n"
     ]
    },
    {
     "name": "stderr",
     "output_type": "stream",
     "text": [
      "Epoch 76 Training: 100%|██████████| 7/7 [00:00<00:00, 238.84it/s, loss=0.0842]\n"
     ]
    },
    {
     "name": "stdout",
     "output_type": "stream",
     "text": [
      "训练损失: 0.084245\n",
      "测试损失: 0.067408\n"
     ]
    },
    {
     "name": "stderr",
     "output_type": "stream",
     "text": [
      "Epoch 77 Training: 100%|██████████| 7/7 [00:00<00:00, 234.20it/s, loss=0.0833]\n"
     ]
    },
    {
     "name": "stdout",
     "output_type": "stream",
     "text": [
      "训练损失: 0.083328\n",
      "测试损失: 0.067239\n"
     ]
    },
    {
     "name": "stderr",
     "output_type": "stream",
     "text": [
      "Epoch 78 Training: 100%|██████████| 7/7 [00:00<00:00, 239.15it/s, loss=0.0801]\n"
     ]
    },
    {
     "name": "stdout",
     "output_type": "stream",
     "text": [
      "训练损失: 0.080055\n",
      "测试损失: 0.067599\n"
     ]
    },
    {
     "name": "stderr",
     "output_type": "stream",
     "text": [
      "Epoch 79 Training: 100%|██████████| 7/7 [00:00<00:00, 233.64it/s, loss=0.0809]\n"
     ]
    },
    {
     "name": "stdout",
     "output_type": "stream",
     "text": [
      "训练损失: 0.080892\n",
      "测试损失: 0.067788\n"
     ]
    },
    {
     "name": "stderr",
     "output_type": "stream",
     "text": [
      "Epoch 80 Training: 100%|██████████| 7/7 [00:00<00:00, 235.69it/s, loss=0.0974]\n"
     ]
    },
    {
     "name": "stdout",
     "output_type": "stream",
     "text": [
      "训练损失: 0.097443\n",
      "测试损失: 0.069945\n"
     ]
    },
    {
     "name": "stderr",
     "output_type": "stream",
     "text": [
      "Epoch 81 Training: 100%|██████████| 7/7 [00:00<00:00, 236.88it/s, loss=0.0968]\n"
     ]
    },
    {
     "name": "stdout",
     "output_type": "stream",
     "text": [
      "训练损失: 0.096778\n",
      "测试损失: 0.140221\n"
     ]
    },
    {
     "name": "stderr",
     "output_type": "stream",
     "text": [
      "Epoch 82 Training: 100%|██████████| 7/7 [00:00<00:00, 236.24it/s, loss=0.108]\n"
     ]
    },
    {
     "name": "stdout",
     "output_type": "stream",
     "text": [
      "训练损失: 0.107631\n",
      "测试损失: 0.071547\n"
     ]
    },
    {
     "name": "stderr",
     "output_type": "stream",
     "text": [
      "Epoch 83 Training: 100%|██████████| 7/7 [00:00<00:00, 238.41it/s, loss=0.0847]\n"
     ]
    },
    {
     "name": "stdout",
     "output_type": "stream",
     "text": [
      "训练损失: 0.084735\n",
      "测试损失: 0.069903\n"
     ]
    },
    {
     "name": "stderr",
     "output_type": "stream",
     "text": [
      "Epoch 84 Training: 100%|██████████| 7/7 [00:00<00:00, 234.34it/s, loss=0.0834]\n"
     ]
    },
    {
     "name": "stdout",
     "output_type": "stream",
     "text": [
      "训练损失: 0.083385\n",
      "测试损失: 0.066957\n"
     ]
    },
    {
     "name": "stderr",
     "output_type": "stream",
     "text": [
      "Epoch 85 Training: 100%|██████████| 7/7 [00:00<00:00, 234.97it/s, loss=0.0817]\n"
     ]
    },
    {
     "name": "stdout",
     "output_type": "stream",
     "text": [
      "训练损失: 0.081705\n",
      "测试损失: 0.067039\n"
     ]
    },
    {
     "name": "stderr",
     "output_type": "stream",
     "text": [
      "Epoch 86 Training: 100%|██████████| 7/7 [00:00<00:00, 235.27it/s, loss=0.0811]\n"
     ]
    },
    {
     "name": "stdout",
     "output_type": "stream",
     "text": [
      "训练损失: 0.081121\n",
      "测试损失: 0.067284\n"
     ]
    },
    {
     "name": "stderr",
     "output_type": "stream",
     "text": [
      "Epoch 87 Training: 100%|██████████| 7/7 [00:00<00:00, 253.43it/s, loss=0.0815]\n"
     ]
    },
    {
     "name": "stdout",
     "output_type": "stream",
     "text": [
      "训练损失: 0.081533\n",
      "测试损失: 0.070372\n"
     ]
    },
    {
     "name": "stderr",
     "output_type": "stream",
     "text": [
      "Epoch 88 Training: 100%|██████████| 7/7 [00:00<00:00, 248.89it/s, loss=0.0802]\n"
     ]
    },
    {
     "name": "stdout",
     "output_type": "stream",
     "text": [
      "训练损失: 0.080235\n",
      "测试损失: 0.069789\n"
     ]
    },
    {
     "name": "stderr",
     "output_type": "stream",
     "text": [
      "Epoch 89 Training: 100%|██████████| 7/7 [00:00<00:00, 236.29it/s, loss=0.0817]\n"
     ]
    },
    {
     "name": "stdout",
     "output_type": "stream",
     "text": [
      "训练损失: 0.081666\n",
      "测试损失: 0.068913\n"
     ]
    },
    {
     "name": "stderr",
     "output_type": "stream",
     "text": [
      "Epoch 90 Training: 100%|██████████| 7/7 [00:00<00:00, 230.01it/s, loss=0.0824]\n"
     ]
    },
    {
     "name": "stdout",
     "output_type": "stream",
     "text": [
      "训练损失: 0.082417\n",
      "测试损失: 0.067113\n"
     ]
    },
    {
     "name": "stderr",
     "output_type": "stream",
     "text": [
      "Epoch 91 Training: 100%|██████████| 7/7 [00:00<00:00, 238.17it/s, loss=0.0822]\n"
     ]
    },
    {
     "name": "stdout",
     "output_type": "stream",
     "text": [
      "训练损失: 0.082175\n",
      "测试损失: 0.100871\n"
     ]
    },
    {
     "name": "stderr",
     "output_type": "stream",
     "text": [
      "Epoch 92 Training: 100%|██████████| 7/7 [00:00<00:00, 232.87it/s, loss=0.108]\n"
     ]
    },
    {
     "name": "stdout",
     "output_type": "stream",
     "text": [
      "训练损失: 0.107946\n",
      "测试损失: 0.074035\n"
     ]
    },
    {
     "name": "stderr",
     "output_type": "stream",
     "text": [
      "Epoch 93 Training: 100%|██████████| 7/7 [00:00<00:00, 244.32it/s, loss=0.0894]\n"
     ]
    },
    {
     "name": "stdout",
     "output_type": "stream",
     "text": [
      "训练损失: 0.089435\n",
      "测试损失: 0.067398\n"
     ]
    },
    {
     "name": "stderr",
     "output_type": "stream",
     "text": [
      "Epoch 94 Training: 100%|██████████| 7/7 [00:00<00:00, 235.34it/s, loss=0.0864]\n"
     ]
    },
    {
     "name": "stdout",
     "output_type": "stream",
     "text": [
      "训练损失: 0.086382\n",
      "测试损失: 0.103728\n"
     ]
    },
    {
     "name": "stderr",
     "output_type": "stream",
     "text": [
      "Epoch 95 Training: 100%|██████████| 7/7 [00:00<00:00, 251.06it/s, loss=0.0977]\n"
     ]
    },
    {
     "name": "stdout",
     "output_type": "stream",
     "text": [
      "训练损失: 0.097692\n",
      "测试损失: 0.070654\n"
     ]
    },
    {
     "name": "stderr",
     "output_type": "stream",
     "text": [
      "Epoch 96 Training: 100%|██████████| 7/7 [00:00<00:00, 251.40it/s, loss=0.0994]\n"
     ]
    },
    {
     "name": "stdout",
     "output_type": "stream",
     "text": [
      "训练损失: 0.099357\n",
      "测试损失: 0.073802\n"
     ]
    },
    {
     "name": "stderr",
     "output_type": "stream",
     "text": [
      "Epoch 97 Training: 100%|██████████| 7/7 [00:00<00:00, 253.84it/s, loss=0.0998]\n"
     ]
    },
    {
     "name": "stdout",
     "output_type": "stream",
     "text": [
      "训练损失: 0.099817\n",
      "测试损失: 0.086090\n"
     ]
    },
    {
     "name": "stderr",
     "output_type": "stream",
     "text": [
      "Epoch 98 Training: 100%|██████████| 7/7 [00:00<00:00, 246.24it/s, loss=0.105]\n"
     ]
    },
    {
     "name": "stdout",
     "output_type": "stream",
     "text": [
      "训练损失: 0.105183\n",
      "测试损失: 0.125703\n"
     ]
    },
    {
     "name": "stderr",
     "output_type": "stream",
     "text": [
      "Epoch 99 Training: 100%|██████████| 7/7 [00:00<00:00, 251.02it/s, loss=0.0977]\n"
     ]
    },
    {
     "name": "stdout",
     "output_type": "stream",
     "text": [
      "训练损失: 0.097684\n",
      "测试损失: 0.075260\n"
     ]
    },
    {
     "name": "stderr",
     "output_type": "stream",
     "text": [
      "Epoch 100 Training: 100%|██████████| 7/7 [00:00<00:00, 253.61it/s, loss=0.0881]\n"
     ]
    },
    {
     "name": "stdout",
     "output_type": "stream",
     "text": [
      "训练损失: 0.088096\n",
      "测试损失: 0.068274\n",
      "训练完成!\n"
     ]
    },
    {
     "data": {
      "image/png": "[encoded data removed]",
      "text/plain": [
       "<Figure size 1000x600 with 1 Axes>"
      ]
     },
     "metadata": {},
     "output_type": "display_data"
    }
   ],
   "source": [
    "# 训练函数\n",
    "def train_loop(model, train_loader, optimizer, loss_fn, device, epoch):\n",
    "    model.train()\n",
    "    total_loss = 0.0\n",
    "    pbar = tqdm(train_loader, desc=f\"Epoch {epoch+1} Training\")\n",
    "    \n",
    "    for batch_idx, (data, target) in enumerate(pbar):\n",
    "        # 将数据移至设备\n",
    "        data, target = data.to(device), target.to(device)\n",
    "        \n",
    "        # 梯度清零\n",
    "        optimizer.zero_grad()\n",
    "        \n",
    "        # 前向传播\n",
    "        output = model(data)\n",
    "        \n",
    "        # 计算损失\n",
    "        loss = loss_fn(output, target)\n",
    "        \n",
    "        # 反向传播\n",
    "        loss.backward()\n",
    "        \n",
    "        # 更新参数\n",
    "        optimizer.step()\n",
    "        \n",
    "        # 更新总损失\n",
    "        total_loss += loss.item()\n",
    "        \n",
    "        # 更新进度条\n",
    "        pbar.set_postfix({\"loss\": total_loss / (batch_idx + 1)})\n",
    "    \n",
    "    avg_loss = total_loss / len(train_loader)\n",
    "    print(f\"训练损失: {avg_loss:.6f}\")\n",
    "    return avg_loss\n",
    "\n",
    "# 测试函数\n",
    "def test_loop(model, test_loader, loss_fn, device):\n",
    "    model.eval()\n",
    "    test_loss = 0.0\n",
    "    \n",
    "    with torch.no_grad():\n",
    "        for data, target in test_loader:\n",
    "            # 将数据移至设备\n",
    "            data, target = data.to(device), target.to(device)\n",
    "            \n",
    "            # 前向传播\n",
    "            output = model(data)\n",
    "            \n",
    "            # 计算损失\n",
    "            loss = loss_fn(output, target)\n",
    "            \n",
    "            # 更新总损失\n",
    "            test_loss += loss.item()\n",
    "    \n",
    "    avg_loss = test_loss / len(test_loader)\n",
    "    print(f\"测试损失: {avg_loss:.6f}\")\n",
    "    return avg_loss\n",
    "\n",
    "# 主函数\n",
    "def main():\n",
    "    device = torch.device(\"cuda\" if torch.cuda.is_available() else \"cpu\")\n",
    "    \n",
    "    # 超参数\n",
    "    input_dim = 4  # 输入特征数\n",
    "    hidden_dim = 64\n",
    "    n_head = 4\n",
    "    learning_rate = 1e-3\n",
    "    weight_decay = 1e-4\n",
    "    num_epochs = 100\n",
    "    \n",
    "    # 创建模型\n",
    "    model = RegressionModel(input_dim, hidden_dim, n_head).to(device)\n",
    "    \n",
    "    # 定义优化器\n",
    "    optimizer = torch.optim.Adam(model.parameters(), lr=learning_rate, weight_decay=weight_decay)\n",
    "    \n",
    "    # 训练历史\n",
    "    train_losses = []\n",
    "    test_losses = []\n",
    "    \n",
    "    # 训练循环\n",
    "    for epoch in range(num_epochs):\n",
    "        train_loss = train_loop(model, train_loader, optimizer, loss_func, device, epoch)\n",
    "        test_loss = test_loop(model, test_loader, loss_func, device)\n",
    "        \n",
    "        train_losses.append(train_loss)\n",
    "        test_losses.append(test_loss)\n",
    "        \n",
    "        # 这里可以添加早停逻辑\n",
    "    \n",
    "    # 绘制训练和测试损失曲线\n",
    "    plt.figure(figsize=(10, 6))\n",
    "    plt.plot(train_losses, label='training loss')\n",
    "    plt.plot(test_losses, label='test loss')\n",
    "    plt.xlabel('epoch')\n",
    "    plt.ylabel('loss (MSE)')\n",
    "    plt.title('test vs train loss')\n",
    "    plt.legend()\n",
    "    plt.grid(True)\n",
    "    plt.savefig('loss_plot.png')\n",
    "    \n",
    "    # 保存模型\n",
    "    torch.save(model.state_dict(), 'regression_model.pth')\n",
    "    \n",
    "    print(\"训练完成!\")\n",
    "\n",
    "if __name__ == \"__main__\":\n",
    "    main()"
   ]
  },
  {
   "cell_type": "code",
   "execution_count": null,
   "metadata": {},
   "outputs": [],
   "source": []
  },
  {
   "cell_type": "code",
   "execution_count": null,
   "metadata": {},
   "outputs": [],
   "source": []
  }
 ],
 "metadata": {
  "kernelspec": {
   "display_name": "triton",
   "language": "python",
   "name": "python3"
  },
  "language_info": {
   "codemirror_mode": {
    "name": "ipython",
    "version": 3
   },
   "file_extension": ".py",
   "mimetype": "text/x-python",
   "name": "python",
   "nbconvert_exporter": "python",
   "pygments_lexer": "ipython3",
   "version": "3.10.14"
  }
 },
 "nbformat": 4,
 "nbformat_minor": 2
}
